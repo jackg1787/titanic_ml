{
 "cells": [
  {
   "cell_type": "code",
   "execution_count": 2,
   "id": "8041e528",
   "metadata": {
    "ExecuteTime": {
     "end_time": "2022-06-10T11:16:19.908132Z",
     "start_time": "2022-06-10T11:16:18.222305Z"
    }
   },
   "outputs": [],
   "source": [
    "import numpy as np\n",
    "import pandas as pd\n",
    "import sys \n",
    "import os\n",
    "sys.path.append(os.path.abspath(\"../src\"))\n",
    "\n",
    "import functions as fnc"
   ]
  },
  {
   "cell_type": "code",
   "execution_count": 3,
   "id": "f6bc0aaa",
   "metadata": {
    "ExecuteTime": {
     "end_time": "2022-06-10T11:16:20.103736Z",
     "start_time": "2022-06-10T11:16:20.074408Z"
    }
   },
   "outputs": [],
   "source": [
    "data = pd.read_csv(r'../data/processed/train.csv')"
   ]
  },
  {
   "cell_type": "code",
   "execution_count": 4,
   "id": "0f0a1600",
   "metadata": {
    "ExecuteTime": {
     "end_time": "2022-06-10T11:16:20.676631Z",
     "start_time": "2022-06-10T11:16:20.672340Z"
    }
   },
   "outputs": [],
   "source": [
    "pd.set_option('display.max_columns',50)"
   ]
  },
  {
   "cell_type": "code",
   "execution_count": 5,
   "id": "8dc5175e",
   "metadata": {
    "ExecuteTime": {
     "end_time": "2022-06-10T11:16:21.230281Z",
     "start_time": "2022-06-10T11:16:21.224416Z"
    }
   },
   "outputs": [],
   "source": [
    "candidates = ['Pclass','Sex',\n",
    " 'SibSp',\n",
    " 'Parch',\n",
    " 'Embarked',\n",
    " 'J_missing_age',\n",
    " 'J_age_binned',\n",
    " 'J_fare_binned',\n",
    " 'J_title_grouped',\n",
    " 'J_nrelatives',\n",
    " 'J_ticket_prefix',\n",
    " 'J_ticket_location',\n",
    " 'J_cabin_letter',\n",
    " 'J_n_siblings_spouses']"
   ]
  },
  {
   "cell_type": "code",
   "execution_count": 6,
   "id": "fba72148",
   "metadata": {
    "ExecuteTime": {
     "end_time": "2022-06-10T11:16:23.389704Z",
     "start_time": "2022-06-10T11:16:23.376484Z"
    }
   },
   "outputs": [],
   "source": [
    "data['died'] = 0\n",
    "data.loc[data['Survived']==0, 'died'] = 1"
   ]
  },
  {
   "cell_type": "markdown",
   "id": "a9a6064e",
   "metadata": {},
   "source": [
    "## missing value cut"
   ]
  },
  {
   "cell_type": "code",
   "execution_count": 7,
   "id": "7725bda9",
   "metadata": {
    "ExecuteTime": {
     "end_time": "2022-06-10T11:16:24.253546Z",
     "start_time": "2022-06-10T11:16:24.210942Z"
    },
    "scrolled": true
   },
   "outputs": [
    {
     "data": {
      "text/html": [
       "<div>\n",
       "<style scoped>\n",
       "    .dataframe tbody tr th:only-of-type {\n",
       "        vertical-align: middle;\n",
       "    }\n",
       "\n",
       "    .dataframe tbody tr th {\n",
       "        vertical-align: top;\n",
       "    }\n",
       "\n",
       "    .dataframe thead th {\n",
       "        text-align: right;\n",
       "    }\n",
       "</style>\n",
       "<table border=\"1\" class=\"dataframe\">\n",
       "  <thead>\n",
       "    <tr style=\"text-align: right;\">\n",
       "      <th></th>\n",
       "      <th>% Missing</th>\n",
       "    </tr>\n",
       "  </thead>\n",
       "  <tbody>\n",
       "    <tr>\n",
       "      <th>J_ticket_location</th>\n",
       "      <td>94.73</td>\n",
       "    </tr>\n",
       "    <tr>\n",
       "      <th>J_room_number</th>\n",
       "      <td>77.55</td>\n",
       "    </tr>\n",
       "    <tr>\n",
       "      <th>Cabin</th>\n",
       "      <td>77.10</td>\n",
       "    </tr>\n",
       "    <tr>\n",
       "      <th>Age</th>\n",
       "      <td>19.87</td>\n",
       "    </tr>\n",
       "    <tr>\n",
       "      <th>Embarked</th>\n",
       "      <td>0.22</td>\n",
       "    </tr>\n",
       "    <tr>\n",
       "      <th>PassengerId</th>\n",
       "      <td>0.00</td>\n",
       "    </tr>\n",
       "    <tr>\n",
       "      <th>J_fare_binned</th>\n",
       "      <td>0.00</td>\n",
       "    </tr>\n",
       "    <tr>\n",
       "      <th>J_n_siblings_spouses</th>\n",
       "      <td>0.00</td>\n",
       "    </tr>\n",
       "    <tr>\n",
       "      <th>J_cabin_letter</th>\n",
       "      <td>0.00</td>\n",
       "    </tr>\n",
       "    <tr>\n",
       "      <th>J_ticket_number</th>\n",
       "      <td>0.00</td>\n",
       "    </tr>\n",
       "    <tr>\n",
       "      <th>J_ticket_prefix</th>\n",
       "      <td>0.00</td>\n",
       "    </tr>\n",
       "    <tr>\n",
       "      <th>J_nrelatives</th>\n",
       "      <td>0.00</td>\n",
       "    </tr>\n",
       "    <tr>\n",
       "      <th>J_title_grouped</th>\n",
       "      <td>0.00</td>\n",
       "    </tr>\n",
       "    <tr>\n",
       "      <th>J_missing_age</th>\n",
       "      <td>0.00</td>\n",
       "    </tr>\n",
       "    <tr>\n",
       "      <th>J_age_binned</th>\n",
       "      <td>0.00</td>\n",
       "    </tr>\n",
       "    <tr>\n",
       "      <th>Survived</th>\n",
       "      <td>0.00</td>\n",
       "    </tr>\n",
       "    <tr>\n",
       "      <th>Fare</th>\n",
       "      <td>0.00</td>\n",
       "    </tr>\n",
       "    <tr>\n",
       "      <th>Ticket</th>\n",
       "      <td>0.00</td>\n",
       "    </tr>\n",
       "    <tr>\n",
       "      <th>Parch</th>\n",
       "      <td>0.00</td>\n",
       "    </tr>\n",
       "    <tr>\n",
       "      <th>SibSp</th>\n",
       "      <td>0.00</td>\n",
       "    </tr>\n",
       "    <tr>\n",
       "      <th>Sex</th>\n",
       "      <td>0.00</td>\n",
       "    </tr>\n",
       "    <tr>\n",
       "      <th>Name</th>\n",
       "      <td>0.00</td>\n",
       "    </tr>\n",
       "    <tr>\n",
       "      <th>Pclass</th>\n",
       "      <td>0.00</td>\n",
       "    </tr>\n",
       "    <tr>\n",
       "      <th>died</th>\n",
       "      <td>0.00</td>\n",
       "    </tr>\n",
       "  </tbody>\n",
       "</table>\n",
       "</div>"
      ],
      "text/plain": [
       "                      % Missing\n",
       "J_ticket_location         94.73\n",
       "J_room_number             77.55\n",
       "Cabin                     77.10\n",
       "Age                       19.87\n",
       "Embarked                   0.22\n",
       "PassengerId                0.00\n",
       "J_fare_binned              0.00\n",
       "J_n_siblings_spouses       0.00\n",
       "J_cabin_letter             0.00\n",
       "J_ticket_number            0.00\n",
       "J_ticket_prefix            0.00\n",
       "J_nrelatives               0.00\n",
       "J_title_grouped            0.00\n",
       "J_missing_age              0.00\n",
       "J_age_binned               0.00\n",
       "Survived                   0.00\n",
       "Fare                       0.00\n",
       "Ticket                     0.00\n",
       "Parch                      0.00\n",
       "SibSp                      0.00\n",
       "Sex                        0.00\n",
       "Name                       0.00\n",
       "Pclass                     0.00\n",
       "died                       0.00"
      ]
     },
     "execution_count": 7,
     "metadata": {},
     "output_type": "execute_result"
    }
   ],
   "source": [
    "(100*data.isnull().sum()/data.shape[0]).to_frame(\"% Missing\").sort_values(by='% Missing',\n",
    "                                                                          ascending=False).round(2)"
   ]
  },
  {
   "cell_type": "markdown",
   "id": "99ae3ce4",
   "metadata": {
    "ExecuteTime": {
     "end_time": "2022-06-10T09:26:02.082692Z",
     "start_time": "2022-06-10T09:26:02.044130Z"
    }
   },
   "source": [
    "my ticket location column, and to a lesser extent room number and cabin has high % missing values- it is possible they may still be predictive as a missing Y/N flag but unlikely. Consider removing to increase model stability"
   ]
  },
  {
   "cell_type": "code",
   "execution_count": null,
   "id": "096906d3",
   "metadata": {},
   "outputs": [],
   "source": []
  },
  {
   "cell_type": "code",
   "execution_count": null,
   "id": "f5148290",
   "metadata": {},
   "outputs": [],
   "source": []
  },
  {
   "cell_type": "markdown",
   "id": "e1c38b2f",
   "metadata": {},
   "source": [
    "## information value analysis"
   ]
  },
  {
   "cell_type": "code",
   "execution_count": 8,
   "id": "33647eb4",
   "metadata": {
    "ExecuteTime": {
     "end_time": "2022-06-10T11:16:26.177153Z",
     "start_time": "2022-06-10T11:16:25.880216Z"
    },
    "scrolled": true
   },
   "outputs": [
    {
     "name": "stdout",
     "output_type": "stream",
     "text": [
      "Pclass\n",
      "Sex\n",
      "SibSp\n",
      "Parch\n",
      "Embarked\n",
      "J_missing_age\n",
      "J_age_binned\n",
      "J_fare_binned\n",
      "J_title_grouped\n",
      "J_nrelatives\n",
      "J_ticket_prefix\n",
      "J_ticket_location\n",
      "J_cabin_letter\n",
      "J_n_siblings_spouses\n"
     ]
    }
   ],
   "source": [
    "IVs = {}\n",
    "woe_tables = {}\n",
    "for c in candidates:\n",
    "    print(c)\n",
    "    IVs[c] = {}\n",
    "\n",
    "    IVs[c]['woe_table'], IVs[c]['woe_grad'] = fnc.calculate_woe_for_column(data, c,target = 'Survived')\n",
    "    IVs[c]['IV']= IVs[c]['woe_table']['IV_i'].sum()"
   ]
  },
  {
   "cell_type": "code",
   "execution_count": 9,
   "id": "d9f57dbd",
   "metadata": {
    "ExecuteTime": {
     "end_time": "2022-06-10T11:16:28.133156Z",
     "start_time": "2022-06-10T11:16:28.112359Z"
    }
   },
   "outputs": [
    {
     "data": {
      "text/html": [
       "<div>\n",
       "<style scoped>\n",
       "    .dataframe tbody tr th:only-of-type {\n",
       "        vertical-align: middle;\n",
       "    }\n",
       "\n",
       "    .dataframe tbody tr th {\n",
       "        vertical-align: top;\n",
       "    }\n",
       "\n",
       "    .dataframe thead th {\n",
       "        text-align: right;\n",
       "    }\n",
       "</style>\n",
       "<table border=\"1\" class=\"dataframe\">\n",
       "  <thead>\n",
       "    <tr style=\"text-align: right;\">\n",
       "      <th></th>\n",
       "      <th>IV</th>\n",
       "    </tr>\n",
       "  </thead>\n",
       "  <tbody>\n",
       "    <tr>\n",
       "      <th>J_title_grouped</th>\n",
       "      <td>149.71</td>\n",
       "    </tr>\n",
       "    <tr>\n",
       "      <th>Sex</th>\n",
       "      <td>134.17</td>\n",
       "    </tr>\n",
       "    <tr>\n",
       "      <th>J_fare_binned</th>\n",
       "      <td>62.59</td>\n",
       "    </tr>\n",
       "    <tr>\n",
       "      <th>Pclass</th>\n",
       "      <td>50.09</td>\n",
       "    </tr>\n",
       "    <tr>\n",
       "      <th>J_cabin_letter</th>\n",
       "      <td>27.80</td>\n",
       "    </tr>\n",
       "    <tr>\n",
       "      <th>J_n_siblings_spouses</th>\n",
       "      <td>23.59</td>\n",
       "    </tr>\n",
       "    <tr>\n",
       "      <th>J_age_binned</th>\n",
       "      <td>12.58</td>\n",
       "    </tr>\n",
       "    <tr>\n",
       "      <th>Embarked</th>\n",
       "      <td>12.27</td>\n",
       "    </tr>\n",
       "    <tr>\n",
       "      <th>J_ticket_location</th>\n",
       "      <td>11.28</td>\n",
       "    </tr>\n",
       "    <tr>\n",
       "      <th>SibSp</th>\n",
       "      <td>11.15</td>\n",
       "    </tr>\n",
       "    <tr>\n",
       "      <th>Parch</th>\n",
       "      <td>10.67</td>\n",
       "    </tr>\n",
       "    <tr>\n",
       "      <th>J_ticket_prefix</th>\n",
       "      <td>8.28</td>\n",
       "    </tr>\n",
       "    <tr>\n",
       "      <th>J_nrelatives</th>\n",
       "      <td>7.28</td>\n",
       "    </tr>\n",
       "    <tr>\n",
       "      <th>J_missing_age</th>\n",
       "      <td>3.76</td>\n",
       "    </tr>\n",
       "  </tbody>\n",
       "</table>\n",
       "</div>"
      ],
      "text/plain": [
       "                          IV\n",
       "J_title_grouped       149.71\n",
       "Sex                   134.17\n",
       "J_fare_binned          62.59\n",
       "Pclass                 50.09\n",
       "J_cabin_letter         27.80\n",
       "J_n_siblings_spouses   23.59\n",
       "J_age_binned           12.58\n",
       "Embarked               12.27\n",
       "J_ticket_location      11.28\n",
       "SibSp                  11.15\n",
       "Parch                  10.67\n",
       "J_ticket_prefix         8.28\n",
       "J_nrelatives            7.28\n",
       "J_missing_age           3.76"
      ]
     },
     "execution_count": 9,
     "metadata": {},
     "output_type": "execute_result"
    }
   ],
   "source": [
    "iv_summary_table = pd.DataFrame({c: IVs[c]['IV'] for c in list(IVs.keys())}, index=['IV']).T\n",
    "iv_summary_table.sort_values(by='IV', ascending=False).round(2)"
   ]
  },
  {
   "cell_type": "code",
   "execution_count": 10,
   "id": "3a111ac7",
   "metadata": {
    "ExecuteTime": {
     "end_time": "2022-06-10T11:16:29.045408Z",
     "start_time": "2022-06-10T11:16:29.028613Z"
    }
   },
   "outputs": [],
   "source": [
    "iv_summary_table.sort_values(by='IV',ascending = False, inplace=True)"
   ]
  },
  {
   "cell_type": "markdown",
   "id": "65829fd0",
   "metadata": {},
   "source": [
    "we can see that our new title column is very predictive (the function removed the items with <5% of sample in them), however adding the 'miss' has added value compared to male/female (as we saw before, young women have a very high chance of surviving.\n",
    "\n",
    "Here Bad == Survived\n",
    "\n",
    "we could consider cutting those with very low iv (e.g. <5) however it is possible that xgboost will find some relationship using multiple features"
   ]
  },
  {
   "cell_type": "code",
   "execution_count": 11,
   "id": "0aadf545",
   "metadata": {
    "ExecuteTime": {
     "end_time": "2022-06-10T11:16:30.085562Z",
     "start_time": "2022-06-10T11:16:30.055707Z"
    }
   },
   "outputs": [
    {
     "data": {
      "text/html": [
       "<div>\n",
       "<style scoped>\n",
       "    .dataframe tbody tr th:only-of-type {\n",
       "        vertical-align: middle;\n",
       "    }\n",
       "\n",
       "    .dataframe tbody tr th {\n",
       "        vertical-align: top;\n",
       "    }\n",
       "\n",
       "    .dataframe thead th {\n",
       "        text-align: right;\n",
       "    }\n",
       "</style>\n",
       "<table border=\"1\" class=\"dataframe\">\n",
       "  <thead>\n",
       "    <tr style=\"text-align: right;\">\n",
       "      <th>Survived</th>\n",
       "      <th>Good</th>\n",
       "      <th>Bad</th>\n",
       "      <th>Bad rate</th>\n",
       "      <th>Good+Bad</th>\n",
       "      <th>Good%-Bad%</th>\n",
       "      <th>WoE</th>\n",
       "      <th>IV_i</th>\n",
       "    </tr>\n",
       "    <tr>\n",
       "      <th>J_title_grouped</th>\n",
       "      <th></th>\n",
       "      <th></th>\n",
       "      <th></th>\n",
       "      <th></th>\n",
       "      <th></th>\n",
       "      <th></th>\n",
       "      <th></th>\n",
       "    </tr>\n",
       "  </thead>\n",
       "  <tbody>\n",
       "    <tr>\n",
       "      <th>Miss</th>\n",
       "      <td>0.100182</td>\n",
       "      <td>0.380117</td>\n",
       "      <td>0.702703</td>\n",
       "      <td>0.207632</td>\n",
       "      <td>-27.993481</td>\n",
       "      <td>-1.333489</td>\n",
       "      <td>37.328998</td>\n",
       "    </tr>\n",
       "    <tr>\n",
       "      <th>Mr</th>\n",
       "      <td>0.795993</td>\n",
       "      <td>0.236842</td>\n",
       "      <td>0.156371</td>\n",
       "      <td>0.581369</td>\n",
       "      <td>55.915061</td>\n",
       "      <td>1.212196</td>\n",
       "      <td>67.780032</td>\n",
       "    </tr>\n",
       "    <tr>\n",
       "      <th>Mrs</th>\n",
       "      <td>0.047359</td>\n",
       "      <td>0.292398</td>\n",
       "      <td>0.793651</td>\n",
       "      <td>0.141414</td>\n",
       "      <td>-24.503883</td>\n",
       "      <td>-1.820361</td>\n",
       "      <td>44.605921</td>\n",
       "    </tr>\n",
       "  </tbody>\n",
       "</table>\n",
       "</div>"
      ],
      "text/plain": [
       "Survived             Good       Bad  Bad rate  Good+Bad  Good%-Bad%       WoE  \\\n",
       "J_title_grouped                                                                 \n",
       "Miss             0.100182  0.380117  0.702703  0.207632  -27.993481 -1.333489   \n",
       "Mr               0.795993  0.236842  0.156371  0.581369   55.915061  1.212196   \n",
       "Mrs              0.047359  0.292398  0.793651  0.141414  -24.503883 -1.820361   \n",
       "\n",
       "Survived              IV_i  \n",
       "J_title_grouped             \n",
       "Miss             37.328998  \n",
       "Mr               67.780032  \n",
       "Mrs              44.605921  "
      ]
     },
     "execution_count": 11,
     "metadata": {},
     "output_type": "execute_result"
    }
   ],
   "source": [
    "IVs['J_title_grouped']['woe_table']"
   ]
  },
  {
   "cell_type": "markdown",
   "id": "ca81f772",
   "metadata": {},
   "source": [
    "## correlation analysis"
   ]
  },
  {
   "cell_type": "code",
   "execution_count": 26,
   "id": "ad929b3a",
   "metadata": {
    "ExecuteTime": {
     "end_time": "2022-06-10T11:20:06.494039Z",
     "start_time": "2022-06-10T11:20:06.411349Z"
    },
    "scrolled": true
   },
   "outputs": [
    {
     "name": "stdout",
     "output_type": "stream",
     "text": [
      "running for spearman\n",
      "SibSp correlated with J_n_siblings_spouses\n",
      "Parch correlated with J_n_siblings_spouses\n",
      "J_n_siblings_spouses correlated with SibSp\n",
      "J_n_siblings_spouses correlated with Parch\n",
      "running for kendall\n",
      "SibSp correlated with J_n_siblings_spouses\n",
      "J_n_siblings_spouses correlated with SibSp\n",
      "running for pearson\n",
      "SibSp correlated with J_n_siblings_spouses\n",
      "J_n_siblings_spouses correlated with SibSp\n",
      "{'SibSp': ['J_n_siblings_spouses'], 'Parch': ['J_n_siblings_spouses'], 'J_n_siblings_spouses': ['Parch', 'SibSp']}\n",
      "filtering for SibSp\n",
      "rejected ['SibSp']\n",
      "filtering for Parch\n",
      "rejected ['Parch']\n",
      "filtering for J_n_siblings_spouses\n"
     ]
    }
   ],
   "source": [
    "c = fnc.CorrelationAnalysis(data, iv_summary_table)\n",
    "selected, rejected = c.analyse_correlations()"
   ]
  },
  {
   "cell_type": "code",
   "execution_count": 27,
   "id": "43602963",
   "metadata": {
    "ExecuteTime": {
     "end_time": "2022-06-10T11:20:08.410069Z",
     "start_time": "2022-06-10T11:20:08.386768Z"
    }
   },
   "outputs": [
    {
     "name": "stdout",
     "output_type": "stream",
     "text": [
      "we can consider removing the highly correlated variables: ['SibSp', 'Parch']. in my experience with xgboost it will not make too much difference, however if we were using a logistic regression i would do this.\n"
     ]
    }
   ],
   "source": [
    "print('we can consider removing the highly correlated variables: {}. in my experience with xgboost it will not make too much difference, however if we were using a logistic regression i would do this.'.format(rejected))"
   ]
  },
  {
   "cell_type": "code",
   "execution_count": null,
   "id": "521c9c6e",
   "metadata": {},
   "outputs": [],
   "source": []
  },
  {
   "cell_type": "code",
   "execution_count": null,
   "id": "ef15471c",
   "metadata": {},
   "outputs": [],
   "source": []
  },
  {
   "cell_type": "code",
   "execution_count": null,
   "id": "aa8673b5",
   "metadata": {},
   "outputs": [],
   "source": []
  },
  {
   "cell_type": "code",
   "execution_count": null,
   "id": "641f7a7b",
   "metadata": {},
   "outputs": [],
   "source": []
  },
  {
   "cell_type": "code",
   "execution_count": null,
   "id": "9e74095f",
   "metadata": {},
   "outputs": [],
   "source": []
  },
  {
   "cell_type": "code",
   "execution_count": null,
   "id": "6d554328",
   "metadata": {},
   "outputs": [],
   "source": []
  },
  {
   "cell_type": "code",
   "execution_count": null,
   "id": "6abfd433",
   "metadata": {},
   "outputs": [],
   "source": []
  },
  {
   "cell_type": "code",
   "execution_count": null,
   "id": "87f67b47",
   "metadata": {},
   "outputs": [],
   "source": []
  }
 ],
 "metadata": {
  "kernelspec": {
   "display_name": "titanic_venv",
   "language": "python",
   "name": "titanic_venv"
  },
  "language_info": {
   "codemirror_mode": {
    "name": "ipython",
    "version": 3
   },
   "file_extension": ".py",
   "mimetype": "text/x-python",
   "name": "python",
   "nbconvert_exporter": "python",
   "pygments_lexer": "ipython3",
   "version": "3.8.13"
  },
  "toc": {
   "base_numbering": 1,
   "nav_menu": {},
   "number_sections": true,
   "sideBar": true,
   "skip_h1_title": false,
   "title_cell": "Table of Contents",
   "title_sidebar": "Contents",
   "toc_cell": false,
   "toc_position": {},
   "toc_section_display": true,
   "toc_window_display": true
  }
 },
 "nbformat": 4,
 "nbformat_minor": 5
}
