{
 "cells": [
  {
   "cell_type": "code",
   "execution_count": 23,
   "id": "8041e528",
   "metadata": {
    "ExecuteTime": {
     "end_time": "2022-05-30T15:46:48.281734Z",
     "start_time": "2022-05-30T15:46:47.328880Z"
    }
   },
   "outputs": [],
   "source": [
    "import numpy as np\n",
    "import pandas as pd\n",
    "import sys \n",
    "import os\n",
    "sys.path.append(os.path.abspath(\"../src\"))\n",
    "\n",
    "import functions as fnc"
   ]
  },
  {
   "cell_type": "code",
   "execution_count": 24,
   "id": "f6bc0aaa",
   "metadata": {
    "ExecuteTime": {
     "end_time": "2022-05-30T15:46:48.882991Z",
     "start_time": "2022-05-30T15:46:48.857727Z"
    }
   },
   "outputs": [],
   "source": [
    "data = pd.read_csv(r'../data/processed/train.csv')"
   ]
  },
  {
   "cell_type": "code",
   "execution_count": 25,
   "id": "0f0a1600",
   "metadata": {
    "ExecuteTime": {
     "end_time": "2022-05-30T15:46:49.460036Z",
     "start_time": "2022-05-30T15:46:49.441804Z"
    }
   },
   "outputs": [],
   "source": [
    "pd.set_option('display.max_columns',50)"
   ]
  },
  {
   "cell_type": "code",
   "execution_count": 62,
   "id": "8dc5175e",
   "metadata": {
    "ExecuteTime": {
     "end_time": "2022-05-30T15:55:30.035989Z",
     "start_time": "2022-05-30T15:55:30.025136Z"
    }
   },
   "outputs": [],
   "source": [
    "candidates = ['Pclass','Sex',\n",
    " 'SibSp',\n",
    " 'Parch',\n",
    " 'Embarked',\n",
    " 'J_missing_age',\n",
    " 'J_age_binned',\n",
    " 'J_fare_binned',\n",
    " 'J_title_grouped',\n",
    " 'J_nrelatives',\n",
    " 'J_ticket_prefix',\n",
    " 'J_ticket_location',\n",
    " 'J_cabin_letter',\n",
    " 'J_n_siblings_spouses']"
   ]
  },
  {
   "cell_type": "code",
   "execution_count": 84,
   "id": "fba72148",
   "metadata": {
    "ExecuteTime": {
     "end_time": "2022-05-30T16:01:40.719978Z",
     "start_time": "2022-05-30T16:01:40.710028Z"
    }
   },
   "outputs": [],
   "source": [
    "data['died'] = 0\n",
    "data.loc[data['Survived']==0, 'died'] = 1"
   ]
  },
  {
   "cell_type": "markdown",
   "id": "e1c38b2f",
   "metadata": {},
   "source": [
    "## information value analysis"
   ]
  },
  {
   "cell_type": "code",
   "execution_count": 85,
   "id": "55732c23",
   "metadata": {
    "ExecuteTime": {
     "end_time": "2022-05-30T16:01:41.860953Z",
     "start_time": "2022-05-30T16:01:41.837955Z"
    },
    "code_folding": []
   },
   "outputs": [],
   "source": []
  },
  {
   "cell_type": "code",
   "execution_count": 86,
   "id": "33647eb4",
   "metadata": {
    "ExecuteTime": {
     "end_time": "2022-05-30T16:01:42.998403Z",
     "start_time": "2022-05-30T16:01:42.840264Z"
    },
    "scrolled": true
   },
   "outputs": [
    {
     "name": "stdout",
     "output_type": "stream",
     "text": [
      "Pclass\n",
      "Sex\n",
      "SibSp\n",
      "Parch\n",
      "Embarked\n",
      "J_missing_age\n",
      "J_age_binned\n",
      "J_fare_binned\n",
      "J_title_grouped\n",
      "J_nrelatives\n",
      "J_ticket_prefix\n",
      "J_ticket_location\n",
      "J_cabin_letter\n",
      "J_n_siblings_spouses\n"
     ]
    }
   ],
   "source": [
    "IVs = {}\n",
    "woe_tables = {}\n",
    "for c in candidates:\n",
    "    print(c)\n",
    "    IVs[c] = {}\n",
    "\n",
    "    IVs[c]['woe_table'], IVs[c]['woe_grad'] = fnc.calculate_woe_for_column(data, c)\n",
    "    IVs[c]['IV']= IVs[c]['woe_table']['IV_i'].sum()"
   ]
  },
  {
   "cell_type": "code",
   "execution_count": 87,
   "id": "d9f57dbd",
   "metadata": {
    "ExecuteTime": {
     "end_time": "2022-05-30T16:01:46.402858Z",
     "start_time": "2022-05-30T16:01:46.388626Z"
    }
   },
   "outputs": [
    {
     "data": {
      "text/html": [
       "<div>\n",
       "<style scoped>\n",
       "    .dataframe tbody tr th:only-of-type {\n",
       "        vertical-align: middle;\n",
       "    }\n",
       "\n",
       "    .dataframe tbody tr th {\n",
       "        vertical-align: top;\n",
       "    }\n",
       "\n",
       "    .dataframe thead th {\n",
       "        text-align: right;\n",
       "    }\n",
       "</style>\n",
       "<table border=\"1\" class=\"dataframe\">\n",
       "  <thead>\n",
       "    <tr style=\"text-align: right;\">\n",
       "      <th></th>\n",
       "      <th>IV</th>\n",
       "    </tr>\n",
       "  </thead>\n",
       "  <tbody>\n",
       "    <tr>\n",
       "      <th>J_title_grouped</th>\n",
       "      <td>149.71</td>\n",
       "    </tr>\n",
       "    <tr>\n",
       "      <th>Sex</th>\n",
       "      <td>134.17</td>\n",
       "    </tr>\n",
       "    <tr>\n",
       "      <th>J_fare_binned</th>\n",
       "      <td>62.59</td>\n",
       "    </tr>\n",
       "    <tr>\n",
       "      <th>Pclass</th>\n",
       "      <td>50.09</td>\n",
       "    </tr>\n",
       "    <tr>\n",
       "      <th>J_cabin_letter</th>\n",
       "      <td>27.80</td>\n",
       "    </tr>\n",
       "    <tr>\n",
       "      <th>J_n_siblings_spouses</th>\n",
       "      <td>23.59</td>\n",
       "    </tr>\n",
       "    <tr>\n",
       "      <th>J_age_binned</th>\n",
       "      <td>12.58</td>\n",
       "    </tr>\n",
       "    <tr>\n",
       "      <th>Embarked</th>\n",
       "      <td>12.27</td>\n",
       "    </tr>\n",
       "    <tr>\n",
       "      <th>J_ticket_location</th>\n",
       "      <td>11.28</td>\n",
       "    </tr>\n",
       "    <tr>\n",
       "      <th>SibSp</th>\n",
       "      <td>11.15</td>\n",
       "    </tr>\n",
       "    <tr>\n",
       "      <th>Parch</th>\n",
       "      <td>10.67</td>\n",
       "    </tr>\n",
       "    <tr>\n",
       "      <th>J_ticket_prefix</th>\n",
       "      <td>8.28</td>\n",
       "    </tr>\n",
       "    <tr>\n",
       "      <th>J_nrelatives</th>\n",
       "      <td>7.28</td>\n",
       "    </tr>\n",
       "    <tr>\n",
       "      <th>J_missing_age</th>\n",
       "      <td>3.76</td>\n",
       "    </tr>\n",
       "  </tbody>\n",
       "</table>\n",
       "</div>"
      ],
      "text/plain": [
       "                          IV\n",
       "J_title_grouped       149.71\n",
       "Sex                   134.17\n",
       "J_fare_binned          62.59\n",
       "Pclass                 50.09\n",
       "J_cabin_letter         27.80\n",
       "J_n_siblings_spouses   23.59\n",
       "J_age_binned           12.58\n",
       "Embarked               12.27\n",
       "J_ticket_location      11.28\n",
       "SibSp                  11.15\n",
       "Parch                  10.67\n",
       "J_ticket_prefix         8.28\n",
       "J_nrelatives            7.28\n",
       "J_missing_age           3.76"
      ]
     },
     "execution_count": 87,
     "metadata": {},
     "output_type": "execute_result"
    }
   ],
   "source": [
    "iv_summary_table = pd.DataFrame({c: IVs[c]['IV'] for c in list(IVs.keys())}, index=['IV']).T\n",
    "iv_summary_table.sort_values(by='IV', ascending=False).round(2)"
   ]
  },
  {
   "cell_type": "markdown",
   "id": "65829fd0",
   "metadata": {},
   "source": [
    "we can see that our new title column is very predictive (the function removed the items with <5% of sample in them), however adding the 'miss' has added value compared to male/female (as we saw before, young women have a very high chance of surviving.\n",
    "\n",
    "Here Bad == died"
   ]
  },
  {
   "cell_type": "code",
   "execution_count": 88,
   "id": "0aadf545",
   "metadata": {
    "ExecuteTime": {
     "end_time": "2022-05-30T16:01:48.751425Z",
     "start_time": "2022-05-30T16:01:48.726377Z"
    }
   },
   "outputs": [
    {
     "data": {
      "text/html": [
       "<div>\n",
       "<style scoped>\n",
       "    .dataframe tbody tr th:only-of-type {\n",
       "        vertical-align: middle;\n",
       "    }\n",
       "\n",
       "    .dataframe tbody tr th {\n",
       "        vertical-align: top;\n",
       "    }\n",
       "\n",
       "    .dataframe thead th {\n",
       "        text-align: right;\n",
       "    }\n",
       "</style>\n",
       "<table border=\"1\" class=\"dataframe\">\n",
       "  <thead>\n",
       "    <tr style=\"text-align: right;\">\n",
       "      <th>died</th>\n",
       "      <th>Good</th>\n",
       "      <th>Bad</th>\n",
       "      <th>Bad rate</th>\n",
       "      <th>Good+Bad</th>\n",
       "      <th>Good%-Bad%</th>\n",
       "      <th>WoE</th>\n",
       "      <th>IV_i</th>\n",
       "    </tr>\n",
       "    <tr>\n",
       "      <th>J_title_grouped</th>\n",
       "      <th></th>\n",
       "      <th></th>\n",
       "      <th></th>\n",
       "      <th></th>\n",
       "      <th></th>\n",
       "      <th></th>\n",
       "      <th></th>\n",
       "    </tr>\n",
       "  </thead>\n",
       "  <tbody>\n",
       "    <tr>\n",
       "      <th>Miss</th>\n",
       "      <td>0.380117</td>\n",
       "      <td>0.100182</td>\n",
       "      <td>0.297297</td>\n",
       "      <td>0.207632</td>\n",
       "      <td>27.993481</td>\n",
       "      <td>1.333489</td>\n",
       "      <td>37.328998</td>\n",
       "    </tr>\n",
       "    <tr>\n",
       "      <th>Mr</th>\n",
       "      <td>0.236842</td>\n",
       "      <td>0.795993</td>\n",
       "      <td>0.843629</td>\n",
       "      <td>0.581369</td>\n",
       "      <td>-55.915061</td>\n",
       "      <td>-1.212196</td>\n",
       "      <td>67.780032</td>\n",
       "    </tr>\n",
       "    <tr>\n",
       "      <th>Mrs</th>\n",
       "      <td>0.292398</td>\n",
       "      <td>0.047359</td>\n",
       "      <td>0.206349</td>\n",
       "      <td>0.141414</td>\n",
       "      <td>24.503883</td>\n",
       "      <td>1.820361</td>\n",
       "      <td>44.605921</td>\n",
       "    </tr>\n",
       "  </tbody>\n",
       "</table>\n",
       "</div>"
      ],
      "text/plain": [
       "died                 Good       Bad  Bad rate  Good+Bad  Good%-Bad%       WoE  \\\n",
       "J_title_grouped                                                                 \n",
       "Miss             0.380117  0.100182  0.297297  0.207632   27.993481  1.333489   \n",
       "Mr               0.236842  0.795993  0.843629  0.581369  -55.915061 -1.212196   \n",
       "Mrs              0.292398  0.047359  0.206349  0.141414   24.503883  1.820361   \n",
       "\n",
       "died                  IV_i  \n",
       "J_title_grouped             \n",
       "Miss             37.328998  \n",
       "Mr               67.780032  \n",
       "Mrs              44.605921  "
      ]
     },
     "execution_count": 88,
     "metadata": {},
     "output_type": "execute_result"
    }
   ],
   "source": [
    "IVs['J_title_grouped']['woe_table']"
   ]
  },
  {
   "cell_type": "markdown",
   "id": "ca81f772",
   "metadata": {},
   "source": [
    "## correlation analysis"
   ]
  },
  {
   "cell_type": "code",
   "execution_count": null,
   "id": "9a8e1171",
   "metadata": {},
   "outputs": [],
   "source": []
  },
  {
   "cell_type": "code",
   "execution_count": null,
   "id": "aa8673b5",
   "metadata": {},
   "outputs": [],
   "source": []
  },
  {
   "cell_type": "code",
   "execution_count": null,
   "id": "641f7a7b",
   "metadata": {},
   "outputs": [],
   "source": []
  },
  {
   "cell_type": "code",
   "execution_count": null,
   "id": "9e74095f",
   "metadata": {},
   "outputs": [],
   "source": []
  },
  {
   "cell_type": "code",
   "execution_count": null,
   "id": "6d554328",
   "metadata": {},
   "outputs": [],
   "source": []
  },
  {
   "cell_type": "code",
   "execution_count": null,
   "id": "6abfd433",
   "metadata": {},
   "outputs": [],
   "source": []
  },
  {
   "cell_type": "code",
   "execution_count": null,
   "id": "87f67b47",
   "metadata": {},
   "outputs": [],
   "source": []
  }
 ],
 "metadata": {
  "kernelspec": {
   "display_name": "titanic",
   "language": "python",
   "name": "titanic"
  },
  "language_info": {
   "codemirror_mode": {
    "name": "ipython",
    "version": 3
   },
   "file_extension": ".py",
   "mimetype": "text/x-python",
   "name": "python",
   "nbconvert_exporter": "python",
   "pygments_lexer": "ipython3",
   "version": "3.8.9"
  },
  "toc": {
   "base_numbering": 1,
   "nav_menu": {},
   "number_sections": true,
   "sideBar": true,
   "skip_h1_title": false,
   "title_cell": "Table of Contents",
   "title_sidebar": "Contents",
   "toc_cell": false,
   "toc_position": {},
   "toc_section_display": true,
   "toc_window_display": true
  }
 },
 "nbformat": 4,
 "nbformat_minor": 5
}
