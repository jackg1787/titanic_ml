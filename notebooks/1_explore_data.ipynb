{
 "cells": [
  {
   "cell_type": "markdown",
   "id": "5a9f2ddd",
   "metadata": {},
   "source": [
    "## Imports, Data"
   ]
  },
  {
   "cell_type": "code",
   "execution_count": 1,
   "id": "81636b87",
   "metadata": {
    "ExecuteTime": {
     "end_time": "2022-05-30T16:21:36.133260Z",
     "start_time": "2022-05-30T16:21:34.630459Z"
    }
   },
   "outputs": [],
   "source": [
    "import pandas as pd\n",
    "import re\n",
    "\n",
    "import matplotlib.pyplot as plt"
   ]
  },
  {
   "cell_type": "code",
   "execution_count": 2,
   "id": "5d155ea8",
   "metadata": {
    "ExecuteTime": {
     "end_time": "2022-05-30T16:21:37.288852Z",
     "start_time": "2022-05-30T16:21:36.136218Z"
    }
   },
   "outputs": [],
   "source": [
    "import sys \n",
    "import os\n",
    "sys.path.append(os.path.abspath(\"../src\"))\n",
    "\n",
    "import functions as fnc"
   ]
  },
  {
   "cell_type": "code",
   "execution_count": 3,
   "id": "513599d5",
   "metadata": {
    "ExecuteTime": {
     "end_time": "2022-05-30T16:21:37.319809Z",
     "start_time": "2022-05-30T16:21:37.290842Z"
    }
   },
   "outputs": [],
   "source": [
    "data = pd.read_csv('../data/titanic/train.csv')\n",
    "data_test = pd.read_csv('../data/titanic/test.csv')"
   ]
  },
  {
   "cell_type": "code",
   "execution_count": 4,
   "id": "051005fe",
   "metadata": {
    "ExecuteTime": {
     "end_time": "2022-05-30T16:21:37.351834Z",
     "start_time": "2022-05-30T16:21:37.324780Z"
    }
   },
   "outputs": [
    {
     "data": {
      "text/html": [
       "<div>\n",
       "<style scoped>\n",
       "    .dataframe tbody tr th:only-of-type {\n",
       "        vertical-align: middle;\n",
       "    }\n",
       "\n",
       "    .dataframe tbody tr th {\n",
       "        vertical-align: top;\n",
       "    }\n",
       "\n",
       "    .dataframe thead th {\n",
       "        text-align: right;\n",
       "    }\n",
       "</style>\n",
       "<table border=\"1\" class=\"dataframe\">\n",
       "  <thead>\n",
       "    <tr style=\"text-align: right;\">\n",
       "      <th></th>\n",
       "      <th>PassengerId</th>\n",
       "      <th>Survived</th>\n",
       "      <th>Pclass</th>\n",
       "      <th>Name</th>\n",
       "      <th>Sex</th>\n",
       "      <th>Age</th>\n",
       "      <th>SibSp</th>\n",
       "      <th>Parch</th>\n",
       "      <th>Ticket</th>\n",
       "      <th>Fare</th>\n",
       "      <th>Cabin</th>\n",
       "      <th>Embarked</th>\n",
       "    </tr>\n",
       "  </thead>\n",
       "  <tbody>\n",
       "    <tr>\n",
       "      <th>0</th>\n",
       "      <td>1</td>\n",
       "      <td>0</td>\n",
       "      <td>3</td>\n",
       "      <td>Braund, Mr. Owen Harris</td>\n",
       "      <td>male</td>\n",
       "      <td>22.0</td>\n",
       "      <td>1</td>\n",
       "      <td>0</td>\n",
       "      <td>A/5 21171</td>\n",
       "      <td>7.2500</td>\n",
       "      <td>NaN</td>\n",
       "      <td>S</td>\n",
       "    </tr>\n",
       "    <tr>\n",
       "      <th>1</th>\n",
       "      <td>2</td>\n",
       "      <td>1</td>\n",
       "      <td>1</td>\n",
       "      <td>Cumings, Mrs. John Bradley (Florence Briggs Th...</td>\n",
       "      <td>female</td>\n",
       "      <td>38.0</td>\n",
       "      <td>1</td>\n",
       "      <td>0</td>\n",
       "      <td>PC 17599</td>\n",
       "      <td>71.2833</td>\n",
       "      <td>C85</td>\n",
       "      <td>C</td>\n",
       "    </tr>\n",
       "    <tr>\n",
       "      <th>2</th>\n",
       "      <td>3</td>\n",
       "      <td>1</td>\n",
       "      <td>3</td>\n",
       "      <td>Heikkinen, Miss. Laina</td>\n",
       "      <td>female</td>\n",
       "      <td>26.0</td>\n",
       "      <td>0</td>\n",
       "      <td>0</td>\n",
       "      <td>STON/O2. 3101282</td>\n",
       "      <td>7.9250</td>\n",
       "      <td>NaN</td>\n",
       "      <td>S</td>\n",
       "    </tr>\n",
       "    <tr>\n",
       "      <th>3</th>\n",
       "      <td>4</td>\n",
       "      <td>1</td>\n",
       "      <td>1</td>\n",
       "      <td>Futrelle, Mrs. Jacques Heath (Lily May Peel)</td>\n",
       "      <td>female</td>\n",
       "      <td>35.0</td>\n",
       "      <td>1</td>\n",
       "      <td>0</td>\n",
       "      <td>113803</td>\n",
       "      <td>53.1000</td>\n",
       "      <td>C123</td>\n",
       "      <td>S</td>\n",
       "    </tr>\n",
       "    <tr>\n",
       "      <th>4</th>\n",
       "      <td>5</td>\n",
       "      <td>0</td>\n",
       "      <td>3</td>\n",
       "      <td>Allen, Mr. William Henry</td>\n",
       "      <td>male</td>\n",
       "      <td>35.0</td>\n",
       "      <td>0</td>\n",
       "      <td>0</td>\n",
       "      <td>373450</td>\n",
       "      <td>8.0500</td>\n",
       "      <td>NaN</td>\n",
       "      <td>S</td>\n",
       "    </tr>\n",
       "  </tbody>\n",
       "</table>\n",
       "</div>"
      ],
      "text/plain": [
       "   PassengerId  Survived  Pclass  \\\n",
       "0            1         0       3   \n",
       "1            2         1       1   \n",
       "2            3         1       3   \n",
       "3            4         1       1   \n",
       "4            5         0       3   \n",
       "\n",
       "                                                Name     Sex   Age  SibSp  \\\n",
       "0                            Braund, Mr. Owen Harris    male  22.0      1   \n",
       "1  Cumings, Mrs. John Bradley (Florence Briggs Th...  female  38.0      1   \n",
       "2                             Heikkinen, Miss. Laina  female  26.0      0   \n",
       "3       Futrelle, Mrs. Jacques Heath (Lily May Peel)  female  35.0      1   \n",
       "4                           Allen, Mr. William Henry    male  35.0      0   \n",
       "\n",
       "   Parch            Ticket     Fare Cabin Embarked  \n",
       "0      0         A/5 21171   7.2500   NaN        S  \n",
       "1      0          PC 17599  71.2833   C85        C  \n",
       "2      0  STON/O2. 3101282   7.9250   NaN        S  \n",
       "3      0            113803  53.1000  C123        S  \n",
       "4      0            373450   8.0500   NaN        S  "
      ]
     },
     "execution_count": 4,
     "metadata": {},
     "output_type": "execute_result"
    }
   ],
   "source": [
    "data.head()"
   ]
  },
  {
   "cell_type": "code",
   "execution_count": 5,
   "id": "3e8ef976",
   "metadata": {
    "ExecuteTime": {
     "end_time": "2022-05-30T16:21:37.365947Z",
     "start_time": "2022-05-30T16:21:37.353810Z"
    }
   },
   "outputs": [],
   "source": [
    "data_dict = {}\n",
    "data_dict['categorical'] = ['Pclass', 'Sex', 'SibSp', 'Parch', 'Embarked']\n",
    "data_dict['continuous'] = ['Age', 'Fare']\n",
    "data_dict['other'] = ['Name', 'Cabin', 'Ticket']"
   ]
  },
  {
   "cell_type": "markdown",
   "id": "00064c97",
   "metadata": {},
   "source": [
    "## Checking the data\n",
    "it is extremely important to understand the dataset that you are working with, for a few reasons.\n",
    "\n",
    "1) detect any issues with the data collection, selection, filtering etc.\n",
    "\n",
    "2) find any issues within the data such as missing information.\n",
    "\n",
    "3) find any useful trends that may influence how you tackle the problem (e.g. do we have two sub-populations that we want to treat differently."
   ]
  },
  {
   "cell_type": "markdown",
   "id": "2b68683b",
   "metadata": {},
   "source": [
    "### overview of categorical data"
   ]
  },
  {
   "cell_type": "code",
   "execution_count": 6,
   "id": "9ffef0ea",
   "metadata": {
    "ExecuteTime": {
     "end_time": "2022-05-30T16:21:37.395197Z",
     "start_time": "2022-05-30T16:21:37.365947Z"
    },
    "scrolled": true
   },
   "outputs": [
    {
     "data": {
      "text/plain": [
       "3    491\n",
       "1    216\n",
       "2    184\n",
       "Name: Pclass, dtype: int64"
      ]
     },
     "metadata": {},
     "output_type": "display_data"
    },
    {
     "data": {
      "text/plain": [
       "male      577\n",
       "female    314\n",
       "Name: Sex, dtype: int64"
      ]
     },
     "metadata": {},
     "output_type": "display_data"
    },
    {
     "data": {
      "text/plain": [
       "0    608\n",
       "1    209\n",
       "2     28\n",
       "4     18\n",
       "3     16\n",
       "8      7\n",
       "5      5\n",
       "Name: SibSp, dtype: int64"
      ]
     },
     "metadata": {},
     "output_type": "display_data"
    },
    {
     "data": {
      "text/plain": [
       "0    678\n",
       "1    118\n",
       "2     80\n",
       "5      5\n",
       "3      5\n",
       "4      4\n",
       "6      1\n",
       "Name: Parch, dtype: int64"
      ]
     },
     "metadata": {},
     "output_type": "display_data"
    },
    {
     "data": {
      "text/plain": [
       "S      644\n",
       "C      168\n",
       "Q       77\n",
       "NaN      2\n",
       "Name: Embarked, dtype: int64"
      ]
     },
     "metadata": {},
     "output_type": "display_data"
    }
   ],
   "source": [
    "for cat in data_dict['categorical']:\n",
    "    display(data[cat].value_counts(dropna = False))"
   ]
  },
  {
   "cell_type": "code",
   "execution_count": 7,
   "id": "d4545ece",
   "metadata": {
    "ExecuteTime": {
     "end_time": "2022-05-30T16:21:37.410756Z",
     "start_time": "2022-05-30T16:21:37.395197Z"
    },
    "scrolled": true
   },
   "outputs": [
    {
     "data": {
      "text/plain": [
       "PassengerId      0\n",
       "Survived         0\n",
       "Pclass           0\n",
       "Name             0\n",
       "Sex              0\n",
       "Age            177\n",
       "SibSp            0\n",
       "Parch            0\n",
       "Ticket           0\n",
       "Fare             0\n",
       "Cabin          687\n",
       "Embarked         2\n",
       "dtype: int64"
      ]
     },
     "execution_count": 7,
     "metadata": {},
     "output_type": "execute_result"
    }
   ],
   "source": [
    "data.isnull().sum()"
   ]
  },
  {
   "cell_type": "markdown",
   "id": "3d16a924",
   "metadata": {},
   "source": [
    "We have missing entries for age, cabin and Embarked. Given that we are going to be using XGBoost this is not too much of an issue, however it is important to decide if there is some issue with the way that the data was collected, such that one group of people are missing but others are not. this may then affect how we treat these missing values (e.g. perhaps we want to replace with the mean value for that group of people, rather than the overall mean)\n"
   ]
  },
  {
   "cell_type": "markdown",
   "id": "a89835d2",
   "metadata": {},
   "source": [
    "### categorical overview"
   ]
  },
  {
   "cell_type": "code",
   "execution_count": 8,
   "id": "b8388f06",
   "metadata": {
    "ExecuteTime": {
     "end_time": "2022-05-30T16:21:38.017206Z",
     "start_time": "2022-05-30T16:21:37.410756Z"
    }
   },
   "outputs": [
    {
     "data": {
      "text/html": [
       "<div>\n",
       "<style scoped>\n",
       "    .dataframe tbody tr th:only-of-type {\n",
       "        vertical-align: middle;\n",
       "    }\n",
       "\n",
       "    .dataframe tbody tr th {\n",
       "        vertical-align: top;\n",
       "    }\n",
       "\n",
       "    .dataframe thead th {\n",
       "        text-align: right;\n",
       "    }\n",
       "</style>\n",
       "<table border=\"1\" class=\"dataframe\">\n",
       "  <thead>\n",
       "    <tr style=\"text-align: right;\">\n",
       "      <th></th>\n",
       "      <th>n_positive</th>\n",
       "      <th>n_records</th>\n",
       "      <th>rate</th>\n",
       "    </tr>\n",
       "    <tr>\n",
       "      <th>Pclass</th>\n",
       "      <th></th>\n",
       "      <th></th>\n",
       "      <th></th>\n",
       "    </tr>\n",
       "  </thead>\n",
       "  <tbody>\n",
       "    <tr>\n",
       "      <th>1</th>\n",
       "      <td>136</td>\n",
       "      <td>216</td>\n",
       "      <td>62.962963</td>\n",
       "    </tr>\n",
       "    <tr>\n",
       "      <th>2</th>\n",
       "      <td>87</td>\n",
       "      <td>184</td>\n",
       "      <td>47.282609</td>\n",
       "    </tr>\n",
       "    <tr>\n",
       "      <th>3</th>\n",
       "      <td>119</td>\n",
       "      <td>491</td>\n",
       "      <td>24.236253</td>\n",
       "    </tr>\n",
       "  </tbody>\n",
       "</table>\n",
       "</div>"
      ],
      "text/plain": [
       "        n_positive  n_records       rate\n",
       "Pclass                                  \n",
       "1              136        216  62.962963\n",
       "2               87        184  47.282609\n",
       "3              119        491  24.236253"
      ]
     },
     "metadata": {},
     "output_type": "display_data"
    },
    {
     "data": {
      "image/png": "[encoded data removed]",
      "text/plain": [
       "<Figure size 432x288 with 1 Axes>"
      ]
     },
     "metadata": {
      "needs_background": "light"
     },
     "output_type": "display_data"
    },
    {
     "data": {
      "text/html": [
       "<div>\n",
       "<style scoped>\n",
       "    .dataframe tbody tr th:only-of-type {\n",
       "        vertical-align: middle;\n",
       "    }\n",
       "\n",
       "    .dataframe tbody tr th {\n",
       "        vertical-align: top;\n",
       "    }\n",
       "\n",
       "    .dataframe thead th {\n",
       "        text-align: right;\n",
       "    }\n",
       "</style>\n",
       "<table border=\"1\" class=\"dataframe\">\n",
       "  <thead>\n",
       "    <tr style=\"text-align: right;\">\n",
       "      <th></th>\n",
       "      <th>n_positive</th>\n",
       "      <th>n_records</th>\n",
       "      <th>rate</th>\n",
       "    </tr>\n",
       "    <tr>\n",
       "      <th>Sex</th>\n",
       "      <th></th>\n",
       "      <th></th>\n",
       "      <th></th>\n",
       "    </tr>\n",
       "  </thead>\n",
       "  <tbody>\n",
       "    <tr>\n",
       "      <th>female</th>\n",
       "      <td>233</td>\n",
       "      <td>314</td>\n",
       "      <td>74.203822</td>\n",
       "    </tr>\n",
       "    <tr>\n",
       "      <th>male</th>\n",
       "      <td>109</td>\n",
       "      <td>577</td>\n",
       "      <td>18.890815</td>\n",
       "    </tr>\n",
       "  </tbody>\n",
       "</table>\n",
       "</div>"
      ],
      "text/plain": [
       "        n_positive  n_records       rate\n",
       "Sex                                     \n",
       "female         233        314  74.203822\n",
       "male           109        577  18.890815"
      ]
     },
     "metadata": {},
     "output_type": "display_data"
    },
    {
     "data": {
      "image/png": "[encoded data removed]",
      "text/plain": [
       "<Figure size 432x288 with 1 Axes>"
      ]
     },
     "metadata": {
      "needs_background": "light"
     },
     "output_type": "display_data"
    },
    {
     "data": {
      "text/html": [
       "<div>\n",
       "<style scoped>\n",
       "    .dataframe tbody tr th:only-of-type {\n",
       "        vertical-align: middle;\n",
       "    }\n",
       "\n",
       "    .dataframe tbody tr th {\n",
       "        vertical-align: top;\n",
       "    }\n",
       "\n",
       "    .dataframe thead th {\n",
       "        text-align: right;\n",
       "    }\n",
       "</style>\n",
       "<table border=\"1\" class=\"dataframe\">\n",
       "  <thead>\n",
       "    <tr style=\"text-align: right;\">\n",
       "      <th></th>\n",
       "      <th>n_positive</th>\n",
       "      <th>n_records</th>\n",
       "      <th>rate</th>\n",
       "    </tr>\n",
       "    <tr>\n",
       "      <th>SibSp</th>\n",
       "      <th></th>\n",
       "      <th></th>\n",
       "      <th></th>\n",
       "    </tr>\n",
       "  </thead>\n",
       "  <tbody>\n",
       "    <tr>\n",
       "      <th>0</th>\n",
       "      <td>210</td>\n",
       "      <td>608</td>\n",
       "      <td>34.539474</td>\n",
       "    </tr>\n",
       "    <tr>\n",
       "      <th>1</th>\n",
       "      <td>112</td>\n",
       "      <td>209</td>\n",
       "      <td>53.588517</td>\n",
       "    </tr>\n",
       "    <tr>\n",
       "      <th>2</th>\n",
       "      <td>13</td>\n",
       "      <td>28</td>\n",
       "      <td>46.428571</td>\n",
       "    </tr>\n",
       "    <tr>\n",
       "      <th>3</th>\n",
       "      <td>4</td>\n",
       "      <td>16</td>\n",
       "      <td>25.000000</td>\n",
       "    </tr>\n",
       "    <tr>\n",
       "      <th>4</th>\n",
       "      <td>3</td>\n",
       "      <td>18</td>\n",
       "      <td>16.666667</td>\n",
       "    </tr>\n",
       "    <tr>\n",
       "      <th>5</th>\n",
       "      <td>0</td>\n",
       "      <td>5</td>\n",
       "      <td>0.000000</td>\n",
       "    </tr>\n",
       "    <tr>\n",
       "      <th>8</th>\n",
       "      <td>0</td>\n",
       "      <td>7</td>\n",
       "      <td>0.000000</td>\n",
       "    </tr>\n",
       "  </tbody>\n",
       "</table>\n",
       "</div>"
      ],
      "text/plain": [
       "       n_positive  n_records       rate\n",
       "SibSp                                  \n",
       "0             210        608  34.539474\n",
       "1             112        209  53.588517\n",
       "2              13         28  46.428571\n",
       "3               4         16  25.000000\n",
       "4               3         18  16.666667\n",
       "5               0          5   0.000000\n",
       "8               0          7   0.000000"
      ]
     },
     "metadata": {},
     "output_type": "display_data"
    },
    {
     "data": {
      "image/png": "[encoded data removed]",
      "text/plain": [
       "<Figure size 432x288 with 1 Axes>"
      ]
     },
     "metadata": {
      "needs_background": "light"
     },
     "output_type": "display_data"
    },
    {
     "data": {
      "text/html": [
       "<div>\n",
       "<style scoped>\n",
       "    .dataframe tbody tr th:only-of-type {\n",
       "        vertical-align: middle;\n",
       "    }\n",
       "\n",
       "    .dataframe tbody tr th {\n",
       "        vertical-align: top;\n",
       "    }\n",
       "\n",
       "    .dataframe thead th {\n",
       "        text-align: right;\n",
       "    }\n",
       "</style>\n",
       "<table border=\"1\" class=\"dataframe\">\n",
       "  <thead>\n",
       "    <tr style=\"text-align: right;\">\n",
       "      <th></th>\n",
       "      <th>n_positive</th>\n",
       "      <th>n_records</th>\n",
       "      <th>rate</th>\n",
       "    </tr>\n",
       "    <tr>\n",
       "      <th>Parch</th>\n",
       "      <th></th>\n",
       "      <th></th>\n",
       "      <th></th>\n",
       "    </tr>\n",
       "  </thead>\n",
       "  <tbody>\n",
       "    <tr>\n",
       "      <th>0</th>\n",
       "      <td>233</td>\n",
       "      <td>678</td>\n",
       "      <td>34.365782</td>\n",
       "    </tr>\n",
       "    <tr>\n",
       "      <th>1</th>\n",
       "      <td>65</td>\n",
       "      <td>118</td>\n",
       "      <td>55.084746</td>\n",
       "    </tr>\n",
       "    <tr>\n",
       "      <th>2</th>\n",
       "      <td>40</td>\n",
       "      <td>80</td>\n",
       "      <td>50.000000</td>\n",
       "    </tr>\n",
       "    <tr>\n",
       "      <th>3</th>\n",
       "      <td>3</td>\n",
       "      <td>5</td>\n",
       "      <td>60.000000</td>\n",
       "    </tr>\n",
       "    <tr>\n",
       "      <th>4</th>\n",
       "      <td>0</td>\n",
       "      <td>4</td>\n",
       "      <td>0.000000</td>\n",
       "    </tr>\n",
       "    <tr>\n",
       "      <th>5</th>\n",
       "      <td>1</td>\n",
       "      <td>5</td>\n",
       "      <td>20.000000</td>\n",
       "    </tr>\n",
       "    <tr>\n",
       "      <th>6</th>\n",
       "      <td>0</td>\n",
       "      <td>1</td>\n",
       "      <td>0.000000</td>\n",
       "    </tr>\n",
       "  </tbody>\n",
       "</table>\n",
       "</div>"
      ],
      "text/plain": [
       "       n_positive  n_records       rate\n",
       "Parch                                  \n",
       "0             233        678  34.365782\n",
       "1              65        118  55.084746\n",
       "2              40         80  50.000000\n",
       "3               3          5  60.000000\n",
       "4               0          4   0.000000\n",
       "5               1          5  20.000000\n",
       "6               0          1   0.000000"
      ]
     },
     "metadata": {},
     "output_type": "display_data"
    },
    {
     "data": {
      "image/png": "[encoded data removed]",
      "text/plain": [
       "<Figure size 432x288 with 1 Axes>"
      ]
     },
     "metadata": {
      "needs_background": "light"
     },
     "output_type": "display_data"
    },
    {
     "data": {
      "text/html": [
       "<div>\n",
       "<style scoped>\n",
       "    .dataframe tbody tr th:only-of-type {\n",
       "        vertical-align: middle;\n",
       "    }\n",
       "\n",
       "    .dataframe tbody tr th {\n",
       "        vertical-align: top;\n",
       "    }\n",
       "\n",
       "    .dataframe thead th {\n",
       "        text-align: right;\n",
       "    }\n",
       "</style>\n",
       "<table border=\"1\" class=\"dataframe\">\n",
       "  <thead>\n",
       "    <tr style=\"text-align: right;\">\n",
       "      <th></th>\n",
       "      <th>n_positive</th>\n",
       "      <th>n_records</th>\n",
       "      <th>rate</th>\n",
       "    </tr>\n",
       "    <tr>\n",
       "      <th>Embarked</th>\n",
       "      <th></th>\n",
       "      <th></th>\n",
       "      <th></th>\n",
       "    </tr>\n",
       "  </thead>\n",
       "  <tbody>\n",
       "    <tr>\n",
       "      <th>C</th>\n",
       "      <td>93</td>\n",
       "      <td>168</td>\n",
       "      <td>55.357143</td>\n",
       "    </tr>\n",
       "    <tr>\n",
       "      <th>Q</th>\n",
       "      <td>30</td>\n",
       "      <td>77</td>\n",
       "      <td>38.961039</td>\n",
       "    </tr>\n",
       "    <tr>\n",
       "      <th>S</th>\n",
       "      <td>217</td>\n",
       "      <td>644</td>\n",
       "      <td>33.695652</td>\n",
       "    </tr>\n",
       "  </tbody>\n",
       "</table>\n",
       "</div>"
      ],
      "text/plain": [
       "          n_positive  n_records       rate\n",
       "Embarked                                  \n",
       "C                 93        168  55.357143\n",
       "Q                 30         77  38.961039\n",
       "S                217        644  33.695652"
      ]
     },
     "metadata": {},
     "output_type": "display_data"
    },
    {
     "data": {
      "image/png": "[encoded data removed]",
      "text/plain": [
       "<Figure size 432x288 with 1 Axes>"
      ]
     },
     "metadata": {
      "needs_background": "light"
     },
     "output_type": "display_data"
    }
   ],
   "source": [
    "for c in data_dict['categorical']:\n",
    "    summy = fnc.badrate_summary_categories(data, c, 'Survived')\n",
    "    display(summy)\n",
    "    summy['rate'].fillna(0).plot(kind='bar', title = 'Survival rate per {} cat'.format(c))\n",
    "    plt.show()\n",
    "    "
   ]
  },
  {
   "cell_type": "code",
   "execution_count": 9,
   "id": "12a5ce78",
   "metadata": {
    "ExecuteTime": {
     "end_time": "2022-05-30T16:21:38.128722Z",
     "start_time": "2022-05-30T16:21:38.017206Z"
    },
    "scrolled": true
   },
   "outputs": [
    {
     "data": {
      "text/html": [
       "<style type=\"text/css\">\n",
       "#T_f9fa7_row0_col0 {\n",
       "  background-color: #023858;\n",
       "  color: #f1f1f1;\n",
       "}\n",
       "#T_f9fa7_row0_col1 {\n",
       "  background-color: #c6cce3;\n",
       "  color: #000000;\n",
       "}\n",
       "#T_f9fa7_row1_col0 {\n",
       "  background-color: #03476f;\n",
       "  color: #f1f1f1;\n",
       "}\n",
       "#T_f9fa7_row1_col1 {\n",
       "  background-color: #fbf4f9;\n",
       "  color: #000000;\n",
       "}\n",
       "#T_f9fa7_row2_col0 {\n",
       "  background-color: #8cb3d5;\n",
       "  color: #000000;\n",
       "}\n",
       "#T_f9fa7_row2_col1 {\n",
       "  background-color: #fff7fb;\n",
       "  color: #000000;\n",
       "}\n",
       "</style>\n",
       "<table id=\"T_f9fa7\">\n",
       "  <caption>We can see that if you are female you have a significantly higher chance of surviving. If you are female and in the two upper classes, you are extremely likely to survive.</caption>\n",
       "  <thead>\n",
       "    <tr>\n",
       "      <th class=\"index_name level0\" >Sex</th>\n",
       "      <th id=\"T_f9fa7_level0_col0\" class=\"col_heading level0 col0\" >female</th>\n",
       "      <th id=\"T_f9fa7_level0_col1\" class=\"col_heading level0 col1\" >male</th>\n",
       "    </tr>\n",
       "    <tr>\n",
       "      <th class=\"index_name level0\" >Pclass</th>\n",
       "      <th class=\"blank col0\" >&nbsp;</th>\n",
       "      <th class=\"blank col1\" >&nbsp;</th>\n",
       "    </tr>\n",
       "  </thead>\n",
       "  <tbody>\n",
       "    <tr>\n",
       "      <th id=\"T_f9fa7_level0_row0\" class=\"row_heading level0 row0\" >1</th>\n",
       "      <td id=\"T_f9fa7_row0_col0\" class=\"data row0 col0\" >96.81%</td>\n",
       "      <td id=\"T_f9fa7_row0_col1\" class=\"data row0 col1\" >36.89%</td>\n",
       "    </tr>\n",
       "    <tr>\n",
       "      <th id=\"T_f9fa7_level0_row1\" class=\"row_heading level0 row1\" >2</th>\n",
       "      <td id=\"T_f9fa7_row1_col0\" class=\"data row1 col0\" >92.11%</td>\n",
       "      <td id=\"T_f9fa7_row1_col1\" class=\"data row1 col1\" >15.74%</td>\n",
       "    </tr>\n",
       "    <tr>\n",
       "      <th id=\"T_f9fa7_level0_row2\" class=\"row_heading level0 row2\" >3</th>\n",
       "      <td id=\"T_f9fa7_row2_col0\" class=\"data row2 col0\" >50.00%</td>\n",
       "      <td id=\"T_f9fa7_row2_col1\" class=\"data row2 col1\" >13.54%</td>\n",
       "    </tr>\n",
       "  </tbody>\n",
       "</table>\n"
      ],
      "text/plain": [
       "<pandas.io.formats.style.Styler at 0x182c0a84a90>"
      ]
     },
     "execution_count": 9,
     "metadata": {},
     "output_type": "execute_result"
    }
   ],
   "source": [
    "(100* pd.crosstab(data['Pclass'], data['Sex'] ,values= data['Survived'], aggfunc = 'sum') / pd.crosstab(data['Pclass'], data['Sex'] )).style.set_caption('We can see that if you are female you have a significantly higher chance of surviving. If you are female and in the two upper classes, you are extremely likely to survive.').background_gradient(axis= None).format(\"{:.2f}%\")"
   ]
  },
  {
   "cell_type": "markdown",
   "id": "21c97a3f",
   "metadata": {},
   "source": [
    "### investigating missing ages"
   ]
  },
  {
   "cell_type": "code",
   "execution_count": 10,
   "id": "a0f8304a",
   "metadata": {
    "ExecuteTime": {
     "end_time": "2022-05-30T16:21:38.596664Z",
     "start_time": "2022-05-30T16:21:38.133734Z"
    },
    "scrolled": true
   },
   "outputs": [
    {
     "data": {
      "text/html": [
       "<div>\n",
       "<style scoped>\n",
       "    .dataframe tbody tr th:only-of-type {\n",
       "        vertical-align: middle;\n",
       "    }\n",
       "\n",
       "    .dataframe tbody tr th {\n",
       "        vertical-align: top;\n",
       "    }\n",
       "\n",
       "    .dataframe thead th {\n",
       "        text-align: right;\n",
       "    }\n",
       "</style>\n",
       "<table border=\"1\" class=\"dataframe\">\n",
       "  <thead>\n",
       "    <tr style=\"text-align: right;\">\n",
       "      <th></th>\n",
       "      <th>n_positive</th>\n",
       "      <th>n_records</th>\n",
       "      <th>rate</th>\n",
       "    </tr>\n",
       "    <tr>\n",
       "      <th>Pclass</th>\n",
       "      <th></th>\n",
       "      <th></th>\n",
       "      <th></th>\n",
       "    </tr>\n",
       "  </thead>\n",
       "  <tbody>\n",
       "    <tr>\n",
       "      <th>1</th>\n",
       "      <td>30</td>\n",
       "      <td>216</td>\n",
       "      <td>13.888889</td>\n",
       "    </tr>\n",
       "    <tr>\n",
       "      <th>2</th>\n",
       "      <td>11</td>\n",
       "      <td>184</td>\n",
       "      <td>5.978261</td>\n",
       "    </tr>\n",
       "    <tr>\n",
       "      <th>3</th>\n",
       "      <td>136</td>\n",
       "      <td>491</td>\n",
       "      <td>27.698574</td>\n",
       "    </tr>\n",
       "  </tbody>\n",
       "</table>\n",
       "</div>"
      ],
      "text/plain": [
       "        n_positive  n_records       rate\n",
       "Pclass                                  \n",
       "1               30        216  13.888889\n",
       "2               11        184   5.978261\n",
       "3              136        491  27.698574"
      ]
     },
     "metadata": {},
     "output_type": "display_data"
    },
    {
     "data": {
      "image/png": "[encoded data removed]",
      "text/plain": [
       "<Figure size 432x288 with 1 Axes>"
      ]
     },
     "metadata": {
      "needs_background": "light"
     },
     "output_type": "display_data"
    },
    {
     "data": {
      "text/html": [
       "<div>\n",
       "<style scoped>\n",
       "    .dataframe tbody tr th:only-of-type {\n",
       "        vertical-align: middle;\n",
       "    }\n",
       "\n",
       "    .dataframe tbody tr th {\n",
       "        vertical-align: top;\n",
       "    }\n",
       "\n",
       "    .dataframe thead th {\n",
       "        text-align: right;\n",
       "    }\n",
       "</style>\n",
       "<table border=\"1\" class=\"dataframe\">\n",
       "  <thead>\n",
       "    <tr style=\"text-align: right;\">\n",
       "      <th></th>\n",
       "      <th>n_positive</th>\n",
       "      <th>n_records</th>\n",
       "      <th>rate</th>\n",
       "    </tr>\n",
       "    <tr>\n",
       "      <th>Sex</th>\n",
       "      <th></th>\n",
       "      <th></th>\n",
       "      <th></th>\n",
       "    </tr>\n",
       "  </thead>\n",
       "  <tbody>\n",
       "    <tr>\n",
       "      <th>female</th>\n",
       "      <td>53</td>\n",
       "      <td>314</td>\n",
       "      <td>16.878981</td>\n",
       "    </tr>\n",
       "    <tr>\n",
       "      <th>male</th>\n",
       "      <td>124</td>\n",
       "      <td>577</td>\n",
       "      <td>21.490468</td>\n",
       "    </tr>\n",
       "  </tbody>\n",
       "</table>\n",
       "</div>"
      ],
      "text/plain": [
       "        n_positive  n_records       rate\n",
       "Sex                                     \n",
       "female          53        314  16.878981\n",
       "male           124        577  21.490468"
      ]
     },
     "metadata": {},
     "output_type": "display_data"
    },
    {
     "data": {
      "image/png": "[encoded data removed]",
      "text/plain": [
       "<Figure size 432x288 with 1 Axes>"
      ]
     },
     "metadata": {
      "needs_background": "light"
     },
     "output_type": "display_data"
    },
    {
     "data": {
      "text/html": [
       "<div>\n",
       "<style scoped>\n",
       "    .dataframe tbody tr th:only-of-type {\n",
       "        vertical-align: middle;\n",
       "    }\n",
       "\n",
       "    .dataframe tbody tr th {\n",
       "        vertical-align: top;\n",
       "    }\n",
       "\n",
       "    .dataframe thead th {\n",
       "        text-align: right;\n",
       "    }\n",
       "</style>\n",
       "<table border=\"1\" class=\"dataframe\">\n",
       "  <thead>\n",
       "    <tr style=\"text-align: right;\">\n",
       "      <th></th>\n",
       "      <th>n_positive</th>\n",
       "      <th>n_records</th>\n",
       "      <th>rate</th>\n",
       "    </tr>\n",
       "    <tr>\n",
       "      <th>SibSp</th>\n",
       "      <th></th>\n",
       "      <th></th>\n",
       "      <th></th>\n",
       "    </tr>\n",
       "  </thead>\n",
       "  <tbody>\n",
       "    <tr>\n",
       "      <th>0</th>\n",
       "      <td>137</td>\n",
       "      <td>608</td>\n",
       "      <td>22.532895</td>\n",
       "    </tr>\n",
       "    <tr>\n",
       "      <th>1</th>\n",
       "      <td>26</td>\n",
       "      <td>209</td>\n",
       "      <td>12.440191</td>\n",
       "    </tr>\n",
       "    <tr>\n",
       "      <th>2</th>\n",
       "      <td>3</td>\n",
       "      <td>28</td>\n",
       "      <td>10.714286</td>\n",
       "    </tr>\n",
       "    <tr>\n",
       "      <th>3</th>\n",
       "      <td>4</td>\n",
       "      <td>16</td>\n",
       "      <td>25.000000</td>\n",
       "    </tr>\n",
       "    <tr>\n",
       "      <th>4</th>\n",
       "      <td>0</td>\n",
       "      <td>18</td>\n",
       "      <td>0.000000</td>\n",
       "    </tr>\n",
       "    <tr>\n",
       "      <th>5</th>\n",
       "      <td>0</td>\n",
       "      <td>5</td>\n",
       "      <td>0.000000</td>\n",
       "    </tr>\n",
       "    <tr>\n",
       "      <th>8</th>\n",
       "      <td>7</td>\n",
       "      <td>7</td>\n",
       "      <td>100.000000</td>\n",
       "    </tr>\n",
       "  </tbody>\n",
       "</table>\n",
       "</div>"
      ],
      "text/plain": [
       "       n_positive  n_records        rate\n",
       "SibSp                                   \n",
       "0             137        608   22.532895\n",
       "1              26        209   12.440191\n",
       "2               3         28   10.714286\n",
       "3               4         16   25.000000\n",
       "4               0         18    0.000000\n",
       "5               0          5    0.000000\n",
       "8               7          7  100.000000"
      ]
     },
     "metadata": {},
     "output_type": "display_data"
    },
    {
     "data": {
      "image/png": "[encoded data removed]",
      "text/plain": [
       "<Figure size 432x288 with 1 Axes>"
      ]
     },
     "metadata": {
      "needs_background": "light"
     },
     "output_type": "display_data"
    },
    {
     "data": {
      "text/html": [
       "<div>\n",
       "<style scoped>\n",
       "    .dataframe tbody tr th:only-of-type {\n",
       "        vertical-align: middle;\n",
       "    }\n",
       "\n",
       "    .dataframe tbody tr th {\n",
       "        vertical-align: top;\n",
       "    }\n",
       "\n",
       "    .dataframe thead th {\n",
       "        text-align: right;\n",
       "    }\n",
       "</style>\n",
       "<table border=\"1\" class=\"dataframe\">\n",
       "  <thead>\n",
       "    <tr style=\"text-align: right;\">\n",
       "      <th></th>\n",
       "      <th>n_positive</th>\n",
       "      <th>n_records</th>\n",
       "      <th>rate</th>\n",
       "    </tr>\n",
       "    <tr>\n",
       "      <th>Parch</th>\n",
       "      <th></th>\n",
       "      <th></th>\n",
       "      <th></th>\n",
       "    </tr>\n",
       "  </thead>\n",
       "  <tbody>\n",
       "    <tr>\n",
       "      <th>0</th>\n",
       "      <td>157</td>\n",
       "      <td>678</td>\n",
       "      <td>23.156342</td>\n",
       "    </tr>\n",
       "    <tr>\n",
       "      <th>1</th>\n",
       "      <td>8</td>\n",
       "      <td>118</td>\n",
       "      <td>6.779661</td>\n",
       "    </tr>\n",
       "    <tr>\n",
       "      <th>2</th>\n",
       "      <td>12</td>\n",
       "      <td>80</td>\n",
       "      <td>15.000000</td>\n",
       "    </tr>\n",
       "    <tr>\n",
       "      <th>3</th>\n",
       "      <td>0</td>\n",
       "      <td>5</td>\n",
       "      <td>0.000000</td>\n",
       "    </tr>\n",
       "    <tr>\n",
       "      <th>4</th>\n",
       "      <td>0</td>\n",
       "      <td>4</td>\n",
       "      <td>0.000000</td>\n",
       "    </tr>\n",
       "    <tr>\n",
       "      <th>5</th>\n",
       "      <td>0</td>\n",
       "      <td>5</td>\n",
       "      <td>0.000000</td>\n",
       "    </tr>\n",
       "    <tr>\n",
       "      <th>6</th>\n",
       "      <td>0</td>\n",
       "      <td>1</td>\n",
       "      <td>0.000000</td>\n",
       "    </tr>\n",
       "  </tbody>\n",
       "</table>\n",
       "</div>"
      ],
      "text/plain": [
       "       n_positive  n_records       rate\n",
       "Parch                                  \n",
       "0             157        678  23.156342\n",
       "1               8        118   6.779661\n",
       "2              12         80  15.000000\n",
       "3               0          5   0.000000\n",
       "4               0          4   0.000000\n",
       "5               0          5   0.000000\n",
       "6               0          1   0.000000"
      ]
     },
     "metadata": {},
     "output_type": "display_data"
    },
    {
     "data": {
      "image/png": "[encoded data removed]",
      "text/plain": [
       "<Figure size 432x288 with 1 Axes>"
      ]
     },
     "metadata": {
      "needs_background": "light"
     },
     "output_type": "display_data"
    },
    {
     "data": {
      "text/html": [
       "<div>\n",
       "<style scoped>\n",
       "    .dataframe tbody tr th:only-of-type {\n",
       "        vertical-align: middle;\n",
       "    }\n",
       "\n",
       "    .dataframe tbody tr th {\n",
       "        vertical-align: top;\n",
       "    }\n",
       "\n",
       "    .dataframe thead th {\n",
       "        text-align: right;\n",
       "    }\n",
       "</style>\n",
       "<table border=\"1\" class=\"dataframe\">\n",
       "  <thead>\n",
       "    <tr style=\"text-align: right;\">\n",
       "      <th></th>\n",
       "      <th>n_positive</th>\n",
       "      <th>n_records</th>\n",
       "      <th>rate</th>\n",
       "    </tr>\n",
       "    <tr>\n",
       "      <th>Embarked</th>\n",
       "      <th></th>\n",
       "      <th></th>\n",
       "      <th></th>\n",
       "    </tr>\n",
       "  </thead>\n",
       "  <tbody>\n",
       "    <tr>\n",
       "      <th>C</th>\n",
       "      <td>38</td>\n",
       "      <td>168</td>\n",
       "      <td>22.619048</td>\n",
       "    </tr>\n",
       "    <tr>\n",
       "      <th>Q</th>\n",
       "      <td>49</td>\n",
       "      <td>77</td>\n",
       "      <td>63.636364</td>\n",
       "    </tr>\n",
       "    <tr>\n",
       "      <th>S</th>\n",
       "      <td>90</td>\n",
       "      <td>644</td>\n",
       "      <td>13.975155</td>\n",
       "    </tr>\n",
       "  </tbody>\n",
       "</table>\n",
       "</div>"
      ],
      "text/plain": [
       "          n_positive  n_records       rate\n",
       "Embarked                                  \n",
       "C                 38        168  22.619048\n",
       "Q                 49         77  63.636364\n",
       "S                 90        644  13.975155"
      ]
     },
     "metadata": {},
     "output_type": "display_data"
    },
    {
     "data": {
      "image/png": "[encoded data removed]",
      "text/plain": [
       "<Figure size 432x288 with 1 Axes>"
      ]
     },
     "metadata": {
      "needs_background": "light"
     },
     "output_type": "display_data"
    }
   ],
   "source": [
    "data['J_missing_age'] = 0\n",
    "data.loc[data['Age'].isnull(), 'J_missing_age'] = 1\n",
    "\n",
    "for c in data_dict['categorical']:\n",
    "    summy = fnc.badrate_summary_categories(data, c, 'J_missing_age')\n",
    "    display(summy)\n",
    "    summy['rate'].fillna(0).plot(kind='bar', title = 'Missing rate per {} cat'.format(c))\n",
    "    plt.show()"
   ]
  },
  {
   "cell_type": "markdown",
   "id": "3c82faa8",
   "metadata": {},
   "source": [
    "we can see a few things:\n",
    "1) the largest issue is with people embarking in Q\n",
    "\n",
    "2) people in the worst class are significantly more likely to have a missing age"
   ]
  },
  {
   "cell_type": "markdown",
   "id": "dcbc1bbb",
   "metadata": {},
   "source": [
    "### overview of continuous data\n",
    "\n",
    "we can see the very youngest passangers are highly likely to survive, likely due to being prioritised for lifeboats. \n",
    "\n",
    "We can also see that passangers that paid a higher fare are much more likely to survive"
   ]
  },
  {
   "cell_type": "markdown",
   "id": "5cbb5001",
   "metadata": {},
   "source": [
    "#### age"
   ]
  },
  {
   "cell_type": "code",
   "execution_count": 11,
   "id": "e35a7ed2",
   "metadata": {
    "ExecuteTime": {
     "end_time": "2022-05-30T16:21:38.801939Z",
     "start_time": "2022-05-30T16:21:38.596664Z"
    },
    "scrolled": true
   },
   "outputs": [
    {
     "data": {
      "image/png": "[encoded data removed]",
      "text/plain": [
       "<Figure size 720x720 with 1 Axes>"
      ]
     },
     "metadata": {
      "needs_background": "light"
     },
     "output_type": "display_data"
    }
   ],
   "source": [
    "fnc.plot_distro_per_cat(data,'Age','Survived', plt_args = {'bins':20, 'alpha': 0.6, 'density': True}, figsize=(10,10))"
   ]
  },
  {
   "cell_type": "markdown",
   "id": "51b2c5f6",
   "metadata": {},
   "source": [
    "#### fare"
   ]
  },
  {
   "cell_type": "code",
   "execution_count": 12,
   "id": "90550bd9",
   "metadata": {
    "ExecuteTime": {
     "end_time": "2022-05-30T16:21:38.999685Z",
     "start_time": "2022-05-30T16:21:38.801939Z"
    },
    "scrolled": true
   },
   "outputs": [
    {
     "data": {
      "image/png": "[encoded data removed]",
      "text/plain": [
       "<Figure size 720x720 with 1 Axes>"
      ]
     },
     "metadata": {
      "needs_background": "light"
     },
     "output_type": "display_data"
    }
   ],
   "source": [
    "fnc.plot_distro_per_cat(data,'Fare','Survived', plt_args = {'bins':20, 'alpha': 0.6, 'density': True}, figsize=(10,10))"
   ]
  },
  {
   "cell_type": "code",
   "execution_count": 13,
   "id": "ab78f78f",
   "metadata": {
    "ExecuteTime": {
     "end_time": "2022-05-30T16:21:39.273236Z",
     "start_time": "2022-05-30T16:21:38.999685Z"
    },
    "scrolled": true
   },
   "outputs": [
    {
     "data": {
      "image/png": "[encoded data removed]",
      "text/plain": [
       "<Figure size 720x720 with 1 Axes>"
      ]
     },
     "metadata": {
      "needs_background": "light"
     },
     "output_type": "display_data"
    }
   ],
   "source": [
    "fnc.plot_distro_per_cat(data,'Fare','Pclass', plt_args = {'bins':20, 'alpha': 0.6, 'density': True}, figsize=(10,10))"
   ]
  },
  {
   "cell_type": "code",
   "execution_count": 14,
   "id": "5d764c33",
   "metadata": {
    "ExecuteTime": {
     "end_time": "2022-05-30T16:21:39.399416Z",
     "start_time": "2022-05-30T16:21:39.273236Z"
    },
    "scrolled": false
   },
   "outputs": [
    {
     "data": {
      "image/png": "[encoded data removed]",
      "text/plain": [
       "<Figure size 432x288 with 1 Axes>"
      ]
     },
     "metadata": {
      "needs_background": "light"
     },
     "output_type": "display_data"
    }
   ],
   "source": [
    "data.loc[:,['Fare', 'Pclass']].pivot(columns='Pclass').boxplot( );\n",
    "plt.ylabel('Fare');\n",
    "plt.xlabel('Passanger Class');\n",
    "plt.title('Boxplot for Fares per passenger class');\n",
    "plt.show()"
   ]
  },
  {
   "cell_type": "code",
   "execution_count": 15,
   "id": "eb686102",
   "metadata": {
    "ExecuteTime": {
     "end_time": "2022-05-30T16:21:39.423632Z",
     "start_time": "2022-05-30T16:21:39.399416Z"
    },
    "scrolled": true
   },
   "outputs": [],
   "source": [
    "data['J_age_binned'], age_bins = pd.qcut(data['Age'], 10, retbins = True)\n",
    "data['J_age_binned'] = data['J_age_binned'].values.add_categories('MISSING')\n",
    "data['J_age_binned'] = data['J_age_binned'].fillna('MISSING')\n",
    "data['J_fare_binned'], fare_bins = pd.qcut(data['Fare'], 10, retbins=True)\n"
   ]
  },
  {
   "cell_type": "code",
   "execution_count": 16,
   "id": "6384d447",
   "metadata": {
    "ExecuteTime": {
     "end_time": "2022-05-30T16:21:39.568540Z",
     "start_time": "2022-05-30T16:21:39.423632Z"
    },
    "scrolled": true
   },
   "outputs": [
    {
     "data": {
      "text/html": [
       "<div>\n",
       "<style scoped>\n",
       "    .dataframe tbody tr th:only-of-type {\n",
       "        vertical-align: middle;\n",
       "    }\n",
       "\n",
       "    .dataframe tbody tr th {\n",
       "        vertical-align: top;\n",
       "    }\n",
       "\n",
       "    .dataframe thead th {\n",
       "        text-align: right;\n",
       "    }\n",
       "</style>\n",
       "<table border=\"1\" class=\"dataframe\">\n",
       "  <thead>\n",
       "    <tr style=\"text-align: right;\">\n",
       "      <th></th>\n",
       "      <th>n_positive</th>\n",
       "      <th>n_records</th>\n",
       "      <th>rate</th>\n",
       "    </tr>\n",
       "    <tr>\n",
       "      <th>J_age_binned</th>\n",
       "      <th></th>\n",
       "      <th></th>\n",
       "      <th></th>\n",
       "    </tr>\n",
       "  </thead>\n",
       "  <tbody>\n",
       "    <tr>\n",
       "      <th>(0.419, 14.0]</th>\n",
       "      <td>45</td>\n",
       "      <td>77</td>\n",
       "      <td>58.441558</td>\n",
       "    </tr>\n",
       "    <tr>\n",
       "      <th>(14.0, 19.0]</th>\n",
       "      <td>34</td>\n",
       "      <td>87</td>\n",
       "      <td>39.080460</td>\n",
       "    </tr>\n",
       "    <tr>\n",
       "      <th>(19.0, 22.0]</th>\n",
       "      <td>19</td>\n",
       "      <td>67</td>\n",
       "      <td>28.358209</td>\n",
       "    </tr>\n",
       "    <tr>\n",
       "      <th>(22.0, 25.0]</th>\n",
       "      <td>26</td>\n",
       "      <td>70</td>\n",
       "      <td>37.142857</td>\n",
       "    </tr>\n",
       "    <tr>\n",
       "      <th>(25.0, 28.0]</th>\n",
       "      <td>24</td>\n",
       "      <td>61</td>\n",
       "      <td>39.344262</td>\n",
       "    </tr>\n",
       "    <tr>\n",
       "      <th>(28.0, 31.8]</th>\n",
       "      <td>26</td>\n",
       "      <td>66</td>\n",
       "      <td>39.393939</td>\n",
       "    </tr>\n",
       "    <tr>\n",
       "      <th>(31.8, 36.0]</th>\n",
       "      <td>44</td>\n",
       "      <td>91</td>\n",
       "      <td>48.351648</td>\n",
       "    </tr>\n",
       "    <tr>\n",
       "      <th>(36.0, 41.0]</th>\n",
       "      <td>19</td>\n",
       "      <td>53</td>\n",
       "      <td>35.849057</td>\n",
       "    </tr>\n",
       "    <tr>\n",
       "      <th>(41.0, 50.0]</th>\n",
       "      <td>31</td>\n",
       "      <td>78</td>\n",
       "      <td>39.743590</td>\n",
       "    </tr>\n",
       "    <tr>\n",
       "      <th>(50.0, 80.0]</th>\n",
       "      <td>22</td>\n",
       "      <td>64</td>\n",
       "      <td>34.375000</td>\n",
       "    </tr>\n",
       "    <tr>\n",
       "      <th>MISSING</th>\n",
       "      <td>52</td>\n",
       "      <td>177</td>\n",
       "      <td>29.378531</td>\n",
       "    </tr>\n",
       "  </tbody>\n",
       "</table>\n",
       "</div>"
      ],
      "text/plain": [
       "               n_positive  n_records       rate\n",
       "J_age_binned                                   \n",
       "(0.419, 14.0]          45         77  58.441558\n",
       "(14.0, 19.0]           34         87  39.080460\n",
       "(19.0, 22.0]           19         67  28.358209\n",
       "(22.0, 25.0]           26         70  37.142857\n",
       "(25.0, 28.0]           24         61  39.344262\n",
       "(28.0, 31.8]           26         66  39.393939\n",
       "(31.8, 36.0]           44         91  48.351648\n",
       "(36.0, 41.0]           19         53  35.849057\n",
       "(41.0, 50.0]           31         78  39.743590\n",
       "(50.0, 80.0]           22         64  34.375000\n",
       "MISSING                52        177  29.378531"
      ]
     },
     "metadata": {},
     "output_type": "display_data"
    },
    {
     "data": {
      "image/png": "[encoded data removed]",
      "text/plain": [
       "<Figure size 432x288 with 1 Axes>"
      ]
     },
     "metadata": {
      "needs_background": "light"
     },
     "output_type": "display_data"
    }
   ],
   "source": [
    "summy = fnc.badrate_summary_categories(data, 'J_age_binned', 'Survived')\n",
    "display(summy)\n",
    "summy['rate'].fillna(0).plot(kind='bar', title = 'Survival rate per Age Bucket')\n",
    "plt.show()"
   ]
  },
  {
   "cell_type": "code",
   "execution_count": 17,
   "id": "e5bf02ca",
   "metadata": {
    "ExecuteTime": {
     "end_time": "2022-05-30T16:21:39.608802Z",
     "start_time": "2022-05-30T16:21:39.568540Z"
    }
   },
   "outputs": [
    {
     "data": {
      "text/html": [
       "<style type=\"text/css\">\n",
       "#T_92bfe_row0_col0 {\n",
       "  background-color: #3b92c1;\n",
       "  color: #f1f1f1;\n",
       "}\n",
       "#T_92bfe_row0_col1 {\n",
       "  background-color: #71a8ce;\n",
       "  color: #f1f1f1;\n",
       "}\n",
       "#T_92bfe_row1_col0 {\n",
       "  background-color: #0569a4;\n",
       "  color: #f1f1f1;\n",
       "}\n",
       "#T_92bfe_row1_col1 {\n",
       "  background-color: #fff7fb;\n",
       "  color: #000000;\n",
       "}\n",
       "#T_92bfe_row2_col0 {\n",
       "  background-color: #2a88bc;\n",
       "  color: #f1f1f1;\n",
       "}\n",
       "#T_92bfe_row2_col1 {\n",
       "  background-color: #fef6fa;\n",
       "  color: #000000;\n",
       "}\n",
       "#T_92bfe_row3_col0 {\n",
       "  background-color: #056caa;\n",
       "  color: #f1f1f1;\n",
       "}\n",
       "#T_92bfe_row3_col1 {\n",
       "  background-color: #f9f2f8;\n",
       "  color: #000000;\n",
       "}\n",
       "#T_92bfe_row4_col0 {\n",
       "  background-color: #1077b4;\n",
       "  color: #f1f1f1;\n",
       "}\n",
       "#T_92bfe_row4_col1, #T_92bfe_row6_col1 {\n",
       "  background-color: #e0dded;\n",
       "  color: #000000;\n",
       "}\n",
       "#T_92bfe_row5_col0 {\n",
       "  background-color: #0d75b3;\n",
       "  color: #f1f1f1;\n",
       "}\n",
       "#T_92bfe_row5_col1 {\n",
       "  background-color: #f2ecf5;\n",
       "  color: #000000;\n",
       "}\n",
       "#T_92bfe_row6_col0 {\n",
       "  background-color: #023858;\n",
       "  color: #f1f1f1;\n",
       "}\n",
       "#T_92bfe_row7_col0 {\n",
       "  background-color: #2383ba;\n",
       "  color: #f1f1f1;\n",
       "}\n",
       "#T_92bfe_row7_col1, #T_92bfe_row9_col1, #T_92bfe_row10_col1 {\n",
       "  background-color: #faf3f9;\n",
       "  color: #000000;\n",
       "}\n",
       "#T_92bfe_row8_col0 {\n",
       "  background-color: #197db7;\n",
       "  color: #f1f1f1;\n",
       "}\n",
       "#T_92bfe_row8_col1 {\n",
       "  background-color: #e5e1ef;\n",
       "  color: #000000;\n",
       "}\n",
       "#T_92bfe_row9_col0 {\n",
       "  background-color: #023f64;\n",
       "  color: #f1f1f1;\n",
       "}\n",
       "#T_92bfe_row10_col0 {\n",
       "  background-color: #2484ba;\n",
       "  color: #f1f1f1;\n",
       "}\n",
       "</style>\n",
       "<table id=\"T_92bfe\">\n",
       "  <caption>We continue to see the huge gender disparity when comparing with age. Interesting that old women have similar or higher survival rates to the younger ones. </caption>\n",
       "  <thead>\n",
       "    <tr>\n",
       "      <th class=\"index_name level0\" >Sex</th>\n",
       "      <th id=\"T_92bfe_level0_col0\" class=\"col_heading level0 col0\" >female</th>\n",
       "      <th id=\"T_92bfe_level0_col1\" class=\"col_heading level0 col1\" >male</th>\n",
       "    </tr>\n",
       "    <tr>\n",
       "      <th class=\"index_name level0\" >J_age_binned</th>\n",
       "      <th class=\"blank col0\" >&nbsp;</th>\n",
       "      <th class=\"blank col1\" >&nbsp;</th>\n",
       "    </tr>\n",
       "  </thead>\n",
       "  <tbody>\n",
       "    <tr>\n",
       "      <th id=\"T_92bfe_level0_row0\" class=\"row_heading level0 row0\" >(0.419, 14.0]</th>\n",
       "      <td id=\"T_92bfe_row0_col0\" class=\"data row0 col0\" >63.16%</td>\n",
       "      <td id=\"T_92bfe_row0_col1\" class=\"data row0 col1\" >53.85%</td>\n",
       "    </tr>\n",
       "    <tr>\n",
       "      <th id=\"T_92bfe_level0_row1\" class=\"row_heading level0 row1\" >(14.0, 19.0]</th>\n",
       "      <td id=\"T_92bfe_row1_col0\" class=\"data row1 col0\" >78.38%</td>\n",
       "      <td id=\"T_92bfe_row1_col1\" class=\"data row1 col1\" >10.00%</td>\n",
       "    </tr>\n",
       "    <tr>\n",
       "      <th id=\"T_92bfe_level0_row2\" class=\"row_heading level0 row2\" >(19.0, 22.0]</th>\n",
       "      <td id=\"T_92bfe_row2_col0\" class=\"data row2 col0\" >66.67%</td>\n",
       "      <td id=\"T_92bfe_row2_col1\" class=\"data row2 col1\" >10.87%</td>\n",
       "    </tr>\n",
       "    <tr>\n",
       "      <th id=\"T_92bfe_level0_row3\" class=\"row_heading level0 row3\" >(22.0, 25.0]</th>\n",
       "      <td id=\"T_92bfe_row3_col0\" class=\"data row3 col0\" >76.92%</td>\n",
       "      <td id=\"T_92bfe_row3_col1\" class=\"data row3 col1\" >13.64%</td>\n",
       "    </tr>\n",
       "    <tr>\n",
       "      <th id=\"T_92bfe_level0_row4\" class=\"row_heading level0 row4\" >(25.0, 28.0]</th>\n",
       "      <td id=\"T_92bfe_row4_col0\" class=\"data row4 col0\" >72.22%</td>\n",
       "      <td id=\"T_92bfe_row4_col1\" class=\"data row4 col1\" >25.58%</td>\n",
       "    </tr>\n",
       "    <tr>\n",
       "      <th id=\"T_92bfe_level0_row5\" class=\"row_heading level0 row5\" >(28.0, 31.8]</th>\n",
       "      <td id=\"T_92bfe_row5_col0\" class=\"data row5 col0\" >73.08%</td>\n",
       "      <td id=\"T_92bfe_row5_col1\" class=\"data row5 col1\" >17.50%</td>\n",
       "    </tr>\n",
       "    <tr>\n",
       "      <th id=\"T_92bfe_level0_row6\" class=\"row_heading level0 row6\" >(31.8, 36.0]</th>\n",
       "      <td id=\"T_92bfe_row6_col0\" class=\"data row6 col0\" >96.55%</td>\n",
       "      <td id=\"T_92bfe_row6_col1\" class=\"data row6 col1\" >25.81%</td>\n",
       "    </tr>\n",
       "    <tr>\n",
       "      <th id=\"T_92bfe_level0_row7\" class=\"row_heading level0 row7\" >(36.0, 41.0]</th>\n",
       "      <td id=\"T_92bfe_row7_col0\" class=\"data row7 col0\" >68.18%</td>\n",
       "      <td id=\"T_92bfe_row7_col1\" class=\"data row7 col1\" >12.90%</td>\n",
       "    </tr>\n",
       "    <tr>\n",
       "      <th id=\"T_92bfe_level0_row8\" class=\"row_heading level0 row8\" >(41.0, 50.0]</th>\n",
       "      <td id=\"T_92bfe_row8_col0\" class=\"data row8 col0\" >70.37%</td>\n",
       "      <td id=\"T_92bfe_row8_col1\" class=\"data row8 col1\" >23.53%</td>\n",
       "    </tr>\n",
       "    <tr>\n",
       "      <th id=\"T_92bfe_level0_row9\" class=\"row_heading level0 row9\" >(50.0, 80.0]</th>\n",
       "      <td id=\"T_92bfe_row9_col0\" class=\"data row9 col0\" >94.12%</td>\n",
       "      <td id=\"T_92bfe_row9_col1\" class=\"data row9 col1\" >12.77%</td>\n",
       "    </tr>\n",
       "    <tr>\n",
       "      <th id=\"T_92bfe_level0_row10\" class=\"row_heading level0 row10\" >MISSING</th>\n",
       "      <td id=\"T_92bfe_row10_col0\" class=\"data row10 col0\" >67.92%</td>\n",
       "      <td id=\"T_92bfe_row10_col1\" class=\"data row10 col1\" >12.90%</td>\n",
       "    </tr>\n",
       "  </tbody>\n",
       "</table>\n"
      ],
      "text/plain": [
       "<pandas.io.formats.style.Styler at 0x182c09d9790>"
      ]
     },
     "execution_count": 17,
     "metadata": {},
     "output_type": "execute_result"
    }
   ],
   "source": [
    "(100* pd.crosstab(data['J_age_binned'], data['Sex'] ,values= data['Survived'], aggfunc = 'sum') / pd.crosstab(data['J_age_binned'], data['Sex'] )).style.set_caption('We continue to see the huge gender disparity when comparing with age. Interesting that old women have similar or higher survival rates to the younger ones. ').background_gradient(axis= None).format(\"{:.2f}%\")"
   ]
  },
  {
   "cell_type": "markdown",
   "id": "129f6234",
   "metadata": {},
   "source": [
    "## playing with the Name column"
   ]
  },
  {
   "cell_type": "code",
   "execution_count": 18,
   "id": "e7622cc7",
   "metadata": {
    "ExecuteTime": {
     "end_time": "2022-05-30T16:21:39.640224Z",
     "start_time": "2022-05-30T16:21:39.608802Z"
    }
   },
   "outputs": [],
   "source": [
    "name_df = fnc.process_name(data)\n",
    "data['J_title_grouped'] = name_df['J_title_grped']\n",
    "data['J_nrelatives'] = name_df['J_nrelatives']"
   ]
  },
  {
   "cell_type": "code",
   "execution_count": 19,
   "id": "e853578e",
   "metadata": {
    "ExecuteTime": {
     "end_time": "2022-05-30T16:21:39.655707Z",
     "start_time": "2022-05-30T16:21:39.640224Z"
    }
   },
   "outputs": [],
   "source": [
    "name_df = fnc.process_name(data_test)\n",
    "data_test['J_title_grouped'] = name_df['J_title_grped']\n",
    "data_test['J_nrelatives'] = name_df['J_nrelatives']"
   ]
  },
  {
   "cell_type": "code",
   "execution_count": 20,
   "id": "8f773ca1",
   "metadata": {
    "ExecuteTime": {
     "end_time": "2022-05-30T16:21:39.686607Z",
     "start_time": "2022-05-30T16:21:39.655707Z"
    },
    "scrolled": false
   },
   "outputs": [
    {
     "data": {
      "text/html": [
       "<div>\n",
       "<style scoped>\n",
       "    .dataframe tbody tr th:only-of-type {\n",
       "        vertical-align: middle;\n",
       "    }\n",
       "\n",
       "    .dataframe tbody tr th {\n",
       "        vertical-align: top;\n",
       "    }\n",
       "\n",
       "    .dataframe thead th {\n",
       "        text-align: right;\n",
       "    }\n",
       "</style>\n",
       "<table border=\"1\" class=\"dataframe\">\n",
       "  <thead>\n",
       "    <tr style=\"text-align: right;\">\n",
       "      <th>Pclass</th>\n",
       "      <th>1</th>\n",
       "      <th>2</th>\n",
       "      <th>3</th>\n",
       "    </tr>\n",
       "    <tr>\n",
       "      <th>J_title_grouped</th>\n",
       "      <th></th>\n",
       "      <th></th>\n",
       "      <th></th>\n",
       "    </tr>\n",
       "  </thead>\n",
       "  <tbody>\n",
       "    <tr>\n",
       "      <th>Master</th>\n",
       "      <td>8.0</td>\n",
       "      <td>22.0</td>\n",
       "      <td>70.0</td>\n",
       "    </tr>\n",
       "    <tr>\n",
       "      <th>Miss</th>\n",
       "      <td>26.0</td>\n",
       "      <td>19.0</td>\n",
       "      <td>55.0</td>\n",
       "    </tr>\n",
       "    <tr>\n",
       "      <th>Mr</th>\n",
       "      <td>21.0</td>\n",
       "      <td>18.0</td>\n",
       "      <td>62.0</td>\n",
       "    </tr>\n",
       "    <tr>\n",
       "      <th>Mrs</th>\n",
       "      <td>34.0</td>\n",
       "      <td>33.0</td>\n",
       "      <td>33.0</td>\n",
       "    </tr>\n",
       "    <tr>\n",
       "      <th>Nobility/Job Prefix</th>\n",
       "      <td>64.0</td>\n",
       "      <td>36.0</td>\n",
       "      <td>0.0</td>\n",
       "    </tr>\n",
       "  </tbody>\n",
       "</table>\n",
       "</div>"
      ],
      "text/plain": [
       "Pclass                  1     2     3\n",
       "J_title_grouped                      \n",
       "Master                8.0  22.0  70.0\n",
       "Miss                 26.0  19.0  55.0\n",
       "Mr                   21.0  18.0  62.0\n",
       "Mrs                  34.0  33.0  33.0\n",
       "Nobility/Job Prefix  64.0  36.0   0.0"
      ]
     },
     "execution_count": 20,
     "metadata": {},
     "output_type": "execute_result"
    }
   ],
   "source": [
    "# where can you find people with each title? \n",
    "100*pd.crosstab(data['J_title_grouped'], data['Pclass']).div(pd.crosstab(data['J_title_grouped'], data['Pclass']).sum(axis=1), axis=0).round(2)"
   ]
  },
  {
   "cell_type": "code",
   "execution_count": 21,
   "id": "075c4dee",
   "metadata": {
    "ExecuteTime": {
     "end_time": "2022-05-30T16:21:39.734215Z",
     "start_time": "2022-05-30T16:21:39.688722Z"
    },
    "scrolled": true
   },
   "outputs": [
    {
     "data": {
      "text/html": [
       "<div>\n",
       "<style scoped>\n",
       "    .dataframe tbody tr th:only-of-type {\n",
       "        vertical-align: middle;\n",
       "    }\n",
       "\n",
       "    .dataframe tbody tr th {\n",
       "        vertical-align: top;\n",
       "    }\n",
       "\n",
       "    .dataframe thead th {\n",
       "        text-align: right;\n",
       "    }\n",
       "</style>\n",
       "<table border=\"1\" class=\"dataframe\">\n",
       "  <thead>\n",
       "    <tr style=\"text-align: right;\">\n",
       "      <th>Pclass</th>\n",
       "      <th>1</th>\n",
       "      <th>2</th>\n",
       "      <th>3</th>\n",
       "    </tr>\n",
       "    <tr>\n",
       "      <th>J_nrelatives</th>\n",
       "      <th></th>\n",
       "      <th></th>\n",
       "      <th></th>\n",
       "    </tr>\n",
       "  </thead>\n",
       "  <tbody>\n",
       "    <tr>\n",
       "      <th>0</th>\n",
       "      <td>132</td>\n",
       "      <td>111</td>\n",
       "      <td>291</td>\n",
       "    </tr>\n",
       "    <tr>\n",
       "      <th>1</th>\n",
       "      <td>47</td>\n",
       "      <td>37</td>\n",
       "      <td>82</td>\n",
       "    </tr>\n",
       "    <tr>\n",
       "      <th>2</th>\n",
       "      <td>21</td>\n",
       "      <td>21</td>\n",
       "      <td>42</td>\n",
       "    </tr>\n",
       "    <tr>\n",
       "      <th>3</th>\n",
       "      <td>12</td>\n",
       "      <td>13</td>\n",
       "      <td>31</td>\n",
       "    </tr>\n",
       "    <tr>\n",
       "      <th>4</th>\n",
       "      <td>0</td>\n",
       "      <td>0</td>\n",
       "      <td>5</td>\n",
       "    </tr>\n",
       "    <tr>\n",
       "      <th>5</th>\n",
       "      <td>4</td>\n",
       "      <td>2</td>\n",
       "      <td>24</td>\n",
       "    </tr>\n",
       "    <tr>\n",
       "      <th>6</th>\n",
       "      <td>0</td>\n",
       "      <td>0</td>\n",
       "      <td>7</td>\n",
       "    </tr>\n",
       "    <tr>\n",
       "      <th>8</th>\n",
       "      <td>0</td>\n",
       "      <td>0</td>\n",
       "      <td>9</td>\n",
       "    </tr>\n",
       "  </tbody>\n",
       "</table>\n",
       "</div>"
      ],
      "text/plain": [
       "Pclass          1    2    3\n",
       "J_nrelatives               \n",
       "0             132  111  291\n",
       "1              47   37   82\n",
       "2              21   21   42\n",
       "3              12   13   31\n",
       "4               0    0    5\n",
       "5               4    2   24\n",
       "6               0    0    7\n",
       "8               0    0    9"
      ]
     },
     "metadata": {},
     "output_type": "display_data"
    },
    {
     "data": {
      "text/html": [
       "<div>\n",
       "<style scoped>\n",
       "    .dataframe tbody tr th:only-of-type {\n",
       "        vertical-align: middle;\n",
       "    }\n",
       "\n",
       "    .dataframe tbody tr th {\n",
       "        vertical-align: top;\n",
       "    }\n",
       "\n",
       "    .dataframe thead th {\n",
       "        text-align: right;\n",
       "    }\n",
       "</style>\n",
       "<table border=\"1\" class=\"dataframe\">\n",
       "  <thead>\n",
       "    <tr style=\"text-align: right;\">\n",
       "      <th>Pclass</th>\n",
       "      <th>1</th>\n",
       "      <th>2</th>\n",
       "      <th>3</th>\n",
       "    </tr>\n",
       "    <tr>\n",
       "      <th>J_nrelatives</th>\n",
       "      <th></th>\n",
       "      <th></th>\n",
       "      <th></th>\n",
       "    </tr>\n",
       "  </thead>\n",
       "  <tbody>\n",
       "    <tr>\n",
       "      <th>0</th>\n",
       "      <td>25.0</td>\n",
       "      <td>21.0</td>\n",
       "      <td>54.0</td>\n",
       "    </tr>\n",
       "    <tr>\n",
       "      <th>1</th>\n",
       "      <td>28.0</td>\n",
       "      <td>22.0</td>\n",
       "      <td>49.0</td>\n",
       "    </tr>\n",
       "    <tr>\n",
       "      <th>2</th>\n",
       "      <td>25.0</td>\n",
       "      <td>25.0</td>\n",
       "      <td>50.0</td>\n",
       "    </tr>\n",
       "    <tr>\n",
       "      <th>3</th>\n",
       "      <td>21.0</td>\n",
       "      <td>23.0</td>\n",
       "      <td>55.0</td>\n",
       "    </tr>\n",
       "    <tr>\n",
       "      <th>4</th>\n",
       "      <td>0.0</td>\n",
       "      <td>0.0</td>\n",
       "      <td>100.0</td>\n",
       "    </tr>\n",
       "    <tr>\n",
       "      <th>5</th>\n",
       "      <td>13.0</td>\n",
       "      <td>7.0</td>\n",
       "      <td>80.0</td>\n",
       "    </tr>\n",
       "    <tr>\n",
       "      <th>6</th>\n",
       "      <td>0.0</td>\n",
       "      <td>0.0</td>\n",
       "      <td>100.0</td>\n",
       "    </tr>\n",
       "    <tr>\n",
       "      <th>8</th>\n",
       "      <td>0.0</td>\n",
       "      <td>0.0</td>\n",
       "      <td>100.0</td>\n",
       "    </tr>\n",
       "  </tbody>\n",
       "</table>\n",
       "</div>"
      ],
      "text/plain": [
       "Pclass           1     2      3\n",
       "J_nrelatives                   \n",
       "0             25.0  21.0   54.0\n",
       "1             28.0  22.0   49.0\n",
       "2             25.0  25.0   50.0\n",
       "3             21.0  23.0   55.0\n",
       "4              0.0   0.0  100.0\n",
       "5             13.0   7.0   80.0\n",
       "6              0.0   0.0  100.0\n",
       "8              0.0   0.0  100.0"
      ]
     },
     "execution_count": 21,
     "metadata": {},
     "output_type": "execute_result"
    }
   ],
   "source": [
    "# are larger groups found in worse classes?\n",
    "display(pd.crosstab(data['J_nrelatives'], data['Pclass']))\n",
    "100*pd.crosstab(data['J_nrelatives'], data['Pclass']).div(pd.crosstab(data['J_nrelatives'], data['Pclass']).sum(axis=1), axis=0).round(2)"
   ]
  },
  {
   "cell_type": "markdown",
   "id": "904b8d0c",
   "metadata": {},
   "source": [
    "## playing with Ticket column"
   ]
  },
  {
   "cell_type": "code",
   "execution_count": null,
   "id": "08926447",
   "metadata": {
    "ExecuteTime": {
     "end_time": "2022-05-30T14:11:38.737477Z",
     "start_time": "2022-05-30T14:11:38.723811Z"
    }
   },
   "outputs": [],
   "source": []
  },
  {
   "cell_type": "code",
   "execution_count": 22,
   "id": "1b4bd0fb",
   "metadata": {
    "ExecuteTime": {
     "end_time": "2022-05-30T16:21:39.764793Z",
     "start_time": "2022-05-30T16:21:39.736014Z"
    },
    "scrolled": true
   },
   "outputs": [
    {
     "data": {
      "text/html": [
       "<div>\n",
       "<style scoped>\n",
       "    .dataframe tbody tr th:only-of-type {\n",
       "        vertical-align: middle;\n",
       "    }\n",
       "\n",
       "    .dataframe tbody tr th {\n",
       "        vertical-align: top;\n",
       "    }\n",
       "\n",
       "    .dataframe thead th {\n",
       "        text-align: right;\n",
       "    }\n",
       "</style>\n",
       "<table border=\"1\" class=\"dataframe\">\n",
       "  <thead>\n",
       "    <tr style=\"text-align: right;\">\n",
       "      <th></th>\n",
       "      <th>raw</th>\n",
       "      <th>prefix</th>\n",
       "      <th>ticket_number</th>\n",
       "      <th>J_prefix</th>\n",
       "      <th>J_ticket_location</th>\n",
       "    </tr>\n",
       "  </thead>\n",
       "  <tbody>\n",
       "    <tr>\n",
       "      <th>0</th>\n",
       "      <td>A/5 21171</td>\n",
       "      <td>A/5</td>\n",
       "      <td>21171</td>\n",
       "      <td>A5</td>\n",
       "      <td></td>\n",
       "    </tr>\n",
       "    <tr>\n",
       "      <th>1</th>\n",
       "      <td>PC 17599</td>\n",
       "      <td>PC</td>\n",
       "      <td>17599</td>\n",
       "      <td>PC</td>\n",
       "      <td></td>\n",
       "    </tr>\n",
       "    <tr>\n",
       "      <th>2</th>\n",
       "      <td>STON/O2. 3101282</td>\n",
       "      <td>STON/O2</td>\n",
       "      <td>3101282</td>\n",
       "      <td>O2</td>\n",
       "      <td>southampton</td>\n",
       "    </tr>\n",
       "    <tr>\n",
       "      <th>3</th>\n",
       "      <td>113803</td>\n",
       "      <td>NO_PREFIX</td>\n",
       "      <td>113803</td>\n",
       "      <td>NO_PREFIX</td>\n",
       "      <td></td>\n",
       "    </tr>\n",
       "    <tr>\n",
       "      <th>4</th>\n",
       "      <td>373450</td>\n",
       "      <td>NO_PREFIX</td>\n",
       "      <td>373450</td>\n",
       "      <td>NO_PREFIX</td>\n",
       "      <td></td>\n",
       "    </tr>\n",
       "    <tr>\n",
       "      <th>...</th>\n",
       "      <td>...</td>\n",
       "      <td>...</td>\n",
       "      <td>...</td>\n",
       "      <td>...</td>\n",
       "      <td>...</td>\n",
       "    </tr>\n",
       "    <tr>\n",
       "      <th>886</th>\n",
       "      <td>211536</td>\n",
       "      <td>NO_PREFIX</td>\n",
       "      <td>211536</td>\n",
       "      <td>NO_PREFIX</td>\n",
       "      <td></td>\n",
       "    </tr>\n",
       "    <tr>\n",
       "      <th>887</th>\n",
       "      <td>112053</td>\n",
       "      <td>NO_PREFIX</td>\n",
       "      <td>112053</td>\n",
       "      <td>NO_PREFIX</td>\n",
       "      <td></td>\n",
       "    </tr>\n",
       "    <tr>\n",
       "      <th>888</th>\n",
       "      <td>W./C. 6607</td>\n",
       "      <td>W/C</td>\n",
       "      <td>6607</td>\n",
       "      <td>WC</td>\n",
       "      <td></td>\n",
       "    </tr>\n",
       "    <tr>\n",
       "      <th>889</th>\n",
       "      <td>111369</td>\n",
       "      <td>NO_PREFIX</td>\n",
       "      <td>111369</td>\n",
       "      <td>NO_PREFIX</td>\n",
       "      <td></td>\n",
       "    </tr>\n",
       "    <tr>\n",
       "      <th>890</th>\n",
       "      <td>370376</td>\n",
       "      <td>NO_PREFIX</td>\n",
       "      <td>370376</td>\n",
       "      <td>NO_PREFIX</td>\n",
       "      <td></td>\n",
       "    </tr>\n",
       "  </tbody>\n",
       "</table>\n",
       "<p>891 rows × 5 columns</p>\n",
       "</div>"
      ],
      "text/plain": [
       "                  raw     prefix ticket_number   J_prefix J_ticket_location\n",
       "0           A/5 21171        A/5         21171         A5                  \n",
       "1            PC 17599         PC         17599         PC                  \n",
       "2    STON/O2. 3101282    STON/O2       3101282         O2       southampton\n",
       "3              113803  NO_PREFIX        113803  NO_PREFIX                  \n",
       "4              373450  NO_PREFIX        373450  NO_PREFIX                  \n",
       "..                ...        ...           ...        ...               ...\n",
       "886            211536  NO_PREFIX        211536  NO_PREFIX                  \n",
       "887            112053  NO_PREFIX        112053  NO_PREFIX                  \n",
       "888        W./C. 6607        W/C          6607         WC                  \n",
       "889            111369  NO_PREFIX        111369  NO_PREFIX                  \n",
       "890            370376  NO_PREFIX        370376  NO_PREFIX                  \n",
       "\n",
       "[891 rows x 5 columns]"
      ]
     },
     "execution_count": 22,
     "metadata": {},
     "output_type": "execute_result"
    }
   ],
   "source": [
    "ticket_info = fnc.process_Ticket(data)\n",
    "ticket_info    "
   ]
  },
  {
   "cell_type": "code",
   "execution_count": 23,
   "id": "bec99381",
   "metadata": {
    "ExecuteTime": {
     "end_time": "2022-05-30T16:21:39.780628Z",
     "start_time": "2022-05-30T16:21:39.767627Z"
    }
   },
   "outputs": [],
   "source": [
    "data['J_ticket_prefix'] = ticket_info['J_prefix']\n",
    "data['J_ticket_number'] = ticket_info['ticket_number']\n",
    "data['J_ticket_location'] = ticket_info['J_ticket_location']"
   ]
  },
  {
   "cell_type": "code",
   "execution_count": 24,
   "id": "712f3bd2",
   "metadata": {
    "ExecuteTime": {
     "end_time": "2022-05-30T16:21:39.796598Z",
     "start_time": "2022-05-30T16:21:39.780970Z"
    }
   },
   "outputs": [],
   "source": [
    "ticket_info = fnc.process_Ticket(data_test)\n",
    "data_test['J_ticket_prefix'] = ticket_info['J_prefix']\n",
    "data_test['J_ticket_number'] = ticket_info['ticket_number']\n",
    "data_test['J_ticket_location'] = ticket_info['J_ticket_location']"
   ]
  },
  {
   "cell_type": "markdown",
   "id": "395d9b47",
   "metadata": {},
   "source": [
    "## playing with cabin"
   ]
  },
  {
   "cell_type": "code",
   "execution_count": 25,
   "id": "e57db4c7",
   "metadata": {
    "ExecuteTime": {
     "end_time": "2022-05-30T16:21:39.812295Z",
     "start_time": "2022-05-30T16:21:39.796598Z"
    },
    "scrolled": true
   },
   "outputs": [],
   "source": [
    "data = fnc.process_cabin(data)"
   ]
  },
  {
   "cell_type": "code",
   "execution_count": 26,
   "id": "aeb4bbaf",
   "metadata": {
    "ExecuteTime": {
     "end_time": "2022-05-30T16:21:39.827885Z",
     "start_time": "2022-05-30T16:21:39.812295Z"
    }
   },
   "outputs": [],
   "source": [
    "data_test = fnc.process_cabin(data_test)"
   ]
  },
  {
   "cell_type": "code",
   "execution_count": 27,
   "id": "58603840",
   "metadata": {
    "ExecuteTime": {
     "end_time": "2022-05-30T16:21:39.843485Z",
     "start_time": "2022-05-30T16:21:39.827885Z"
    },
    "scrolled": true
   },
   "outputs": [],
   "source": [
    "data = fnc.process_siblings_spouses(data)\n",
    "\n",
    "data_test= fnc.process_siblings_spouses(data_test)"
   ]
  },
  {
   "cell_type": "code",
   "execution_count": 28,
   "id": "edec9bb9",
   "metadata": {
    "ExecuteTime": {
     "end_time": "2022-05-30T16:21:39.875228Z",
     "start_time": "2022-05-30T16:21:39.843485Z"
    }
   },
   "outputs": [
    {
     "data": {
      "text/html": [
       "<div>\n",
       "<style scoped>\n",
       "    .dataframe tbody tr th:only-of-type {\n",
       "        vertical-align: middle;\n",
       "    }\n",
       "\n",
       "    .dataframe tbody tr th {\n",
       "        vertical-align: top;\n",
       "    }\n",
       "\n",
       "    .dataframe thead th {\n",
       "        text-align: right;\n",
       "    }\n",
       "</style>\n",
       "<table border=\"1\" class=\"dataframe\">\n",
       "  <thead>\n",
       "    <tr style=\"text-align: right;\">\n",
       "      <th></th>\n",
       "      <th>PassengerId</th>\n",
       "      <th>Survived</th>\n",
       "      <th>Pclass</th>\n",
       "      <th>Name</th>\n",
       "      <th>Sex</th>\n",
       "      <th>Age</th>\n",
       "      <th>SibSp</th>\n",
       "      <th>Parch</th>\n",
       "      <th>Ticket</th>\n",
       "      <th>Fare</th>\n",
       "      <th>...</th>\n",
       "      <th>J_age_binned</th>\n",
       "      <th>J_fare_binned</th>\n",
       "      <th>J_title_grouped</th>\n",
       "      <th>J_nrelatives</th>\n",
       "      <th>J_ticket_prefix</th>\n",
       "      <th>J_ticket_number</th>\n",
       "      <th>J_ticket_location</th>\n",
       "      <th>J_cabin_letter</th>\n",
       "      <th>J_room_number</th>\n",
       "      <th>J_n_siblings_spouses</th>\n",
       "    </tr>\n",
       "  </thead>\n",
       "  <tbody>\n",
       "    <tr>\n",
       "      <th>0</th>\n",
       "      <td>1</td>\n",
       "      <td>0</td>\n",
       "      <td>3</td>\n",
       "      <td>Braund, Mr. Owen Harris</td>\n",
       "      <td>male</td>\n",
       "      <td>22.0</td>\n",
       "      <td>1</td>\n",
       "      <td>0</td>\n",
       "      <td>A/5 21171</td>\n",
       "      <td>7.2500</td>\n",
       "      <td>...</td>\n",
       "      <td>(19.0, 22.0]</td>\n",
       "      <td>(-0.001, 7.55]</td>\n",
       "      <td>Mr</td>\n",
       "      <td>1</td>\n",
       "      <td>A5</td>\n",
       "      <td>21171</td>\n",
       "      <td></td>\n",
       "      <td>MISSING</td>\n",
       "      <td></td>\n",
       "      <td>1</td>\n",
       "    </tr>\n",
       "    <tr>\n",
       "      <th>1</th>\n",
       "      <td>2</td>\n",
       "      <td>1</td>\n",
       "      <td>1</td>\n",
       "      <td>Cumings, Mrs. John Bradley (Florence Briggs Th...</td>\n",
       "      <td>female</td>\n",
       "      <td>38.0</td>\n",
       "      <td>1</td>\n",
       "      <td>0</td>\n",
       "      <td>PC 17599</td>\n",
       "      <td>71.2833</td>\n",
       "      <td>...</td>\n",
       "      <td>(36.0, 41.0]</td>\n",
       "      <td>(39.688, 77.958]</td>\n",
       "      <td>Mrs</td>\n",
       "      <td>0</td>\n",
       "      <td>PC</td>\n",
       "      <td>17599</td>\n",
       "      <td></td>\n",
       "      <td>C</td>\n",
       "      <td>85</td>\n",
       "      <td>1</td>\n",
       "    </tr>\n",
       "    <tr>\n",
       "      <th>2</th>\n",
       "      <td>3</td>\n",
       "      <td>1</td>\n",
       "      <td>3</td>\n",
       "      <td>Heikkinen, Miss. Laina</td>\n",
       "      <td>female</td>\n",
       "      <td>26.0</td>\n",
       "      <td>0</td>\n",
       "      <td>0</td>\n",
       "      <td>STON/O2. 3101282</td>\n",
       "      <td>7.9250</td>\n",
       "      <td>...</td>\n",
       "      <td>(25.0, 28.0]</td>\n",
       "      <td>(7.854, 8.05]</td>\n",
       "      <td>Miss</td>\n",
       "      <td>0</td>\n",
       "      <td>O2</td>\n",
       "      <td>3101282</td>\n",
       "      <td>southampton</td>\n",
       "      <td>MISSING</td>\n",
       "      <td></td>\n",
       "      <td>0</td>\n",
       "    </tr>\n",
       "    <tr>\n",
       "      <th>3</th>\n",
       "      <td>4</td>\n",
       "      <td>1</td>\n",
       "      <td>1</td>\n",
       "      <td>Futrelle, Mrs. Jacques Heath (Lily May Peel)</td>\n",
       "      <td>female</td>\n",
       "      <td>35.0</td>\n",
       "      <td>1</td>\n",
       "      <td>0</td>\n",
       "      <td>113803</td>\n",
       "      <td>53.1000</td>\n",
       "      <td>...</td>\n",
       "      <td>(31.8, 36.0]</td>\n",
       "      <td>(39.688, 77.958]</td>\n",
       "      <td>Mrs</td>\n",
       "      <td>1</td>\n",
       "      <td>NO_PREFIX</td>\n",
       "      <td>113803</td>\n",
       "      <td></td>\n",
       "      <td>C</td>\n",
       "      <td>123</td>\n",
       "      <td>1</td>\n",
       "    </tr>\n",
       "    <tr>\n",
       "      <th>4</th>\n",
       "      <td>5</td>\n",
       "      <td>0</td>\n",
       "      <td>3</td>\n",
       "      <td>Allen, Mr. William Henry</td>\n",
       "      <td>male</td>\n",
       "      <td>35.0</td>\n",
       "      <td>0</td>\n",
       "      <td>0</td>\n",
       "      <td>373450</td>\n",
       "      <td>8.0500</td>\n",
       "      <td>...</td>\n",
       "      <td>(31.8, 36.0]</td>\n",
       "      <td>(7.854, 8.05]</td>\n",
       "      <td>Mr</td>\n",
       "      <td>1</td>\n",
       "      <td>NO_PREFIX</td>\n",
       "      <td>373450</td>\n",
       "      <td></td>\n",
       "      <td>MISSING</td>\n",
       "      <td></td>\n",
       "      <td>0</td>\n",
       "    </tr>\n",
       "  </tbody>\n",
       "</table>\n",
       "<p>5 rows × 23 columns</p>\n",
       "</div>"
      ],
      "text/plain": [
       "   PassengerId  Survived  Pclass  \\\n",
       "0            1         0       3   \n",
       "1            2         1       1   \n",
       "2            3         1       3   \n",
       "3            4         1       1   \n",
       "4            5         0       3   \n",
       "\n",
       "                                                Name     Sex   Age  SibSp  \\\n",
       "0                            Braund, Mr. Owen Harris    male  22.0      1   \n",
       "1  Cumings, Mrs. John Bradley (Florence Briggs Th...  female  38.0      1   \n",
       "2                             Heikkinen, Miss. Laina  female  26.0      0   \n",
       "3       Futrelle, Mrs. Jacques Heath (Lily May Peel)  female  35.0      1   \n",
       "4                           Allen, Mr. William Henry    male  35.0      0   \n",
       "\n",
       "   Parch            Ticket     Fare  ...  J_age_binned     J_fare_binned  \\\n",
       "0      0         A/5 21171   7.2500  ...  (19.0, 22.0]    (-0.001, 7.55]   \n",
       "1      0          PC 17599  71.2833  ...  (36.0, 41.0]  (39.688, 77.958]   \n",
       "2      0  STON/O2. 3101282   7.9250  ...  (25.0, 28.0]     (7.854, 8.05]   \n",
       "3      0            113803  53.1000  ...  (31.8, 36.0]  (39.688, 77.958]   \n",
       "4      0            373450   8.0500  ...  (31.8, 36.0]     (7.854, 8.05]   \n",
       "\n",
       "   J_title_grouped J_nrelatives J_ticket_prefix J_ticket_number  \\\n",
       "0               Mr            1              A5           21171   \n",
       "1              Mrs            0              PC           17599   \n",
       "2             Miss            0              O2         3101282   \n",
       "3              Mrs            1       NO_PREFIX          113803   \n",
       "4               Mr            1       NO_PREFIX          373450   \n",
       "\n",
       "   J_ticket_location J_cabin_letter J_room_number J_n_siblings_spouses  \n",
       "0                           MISSING                                  1  \n",
       "1                                 C            85                    1  \n",
       "2        southampton        MISSING                                  0  \n",
       "3                                 C           123                    1  \n",
       "4                           MISSING                                  0  \n",
       "\n",
       "[5 rows x 23 columns]"
      ]
     },
     "execution_count": 28,
     "metadata": {},
     "output_type": "execute_result"
    }
   ],
   "source": [
    "data.head()"
   ]
  },
  {
   "cell_type": "code",
   "execution_count": 29,
   "id": "1e218f28",
   "metadata": {
    "ExecuteTime": {
     "end_time": "2022-05-30T16:21:39.891229Z",
     "start_time": "2022-05-30T16:21:39.877230Z"
    }
   },
   "outputs": [],
   "source": [
    "if not os.path.exists('../data/processed'):\n",
    "    os.mkdir('../data/processed')"
   ]
  },
  {
   "cell_type": "code",
   "execution_count": 30,
   "id": "b41c1a32",
   "metadata": {
    "ExecuteTime": {
     "end_time": "2022-05-30T16:21:39.906739Z",
     "start_time": "2022-05-30T16:21:39.891905Z"
    }
   },
   "outputs": [],
   "source": [
    "data['J_age_binned'] = data['J_age_binned'].astype(str)\n",
    "data['J_fare_binned'] = data['J_fare_binned'].astype(str)"
   ]
  },
  {
   "cell_type": "code",
   "execution_count": 31,
   "id": "b30a897f",
   "metadata": {
    "ExecuteTime": {
     "end_time": "2022-05-30T16:21:39.922765Z",
     "start_time": "2022-05-30T16:21:39.908763Z"
    }
   },
   "outputs": [],
   "source": [
    "data['died'] = 0\n",
    "data.loc[data['Survived']==0, 'died'] = 1"
   ]
  },
  {
   "cell_type": "code",
   "execution_count": 32,
   "id": "c546eed3",
   "metadata": {
    "ExecuteTime": {
     "end_time": "2022-05-30T16:21:39.970737Z",
     "start_time": "2022-05-30T16:21:39.925742Z"
    },
    "scrolled": false
   },
   "outputs": [],
   "source": [
    "data.to_csv('../data/processed/train.csv', index=False)\n",
    "data_test.to_csv('../data/processed/test.csv', index=False)"
   ]
  }
 ],
 "metadata": {
  "kernelspec": {
   "display_name": "titanic",
   "language": "python",
   "name": "titanic"
  },
  "language_info": {
   "codemirror_mode": {
    "name": "ipython",
    "version": 3
   },
   "file_extension": ".py",
   "mimetype": "text/x-python",
   "name": "python",
   "nbconvert_exporter": "python",
   "pygments_lexer": "ipython3",
   "version": "3.8.9"
  },
  "toc": {
   "base_numbering": 1,
   "nav_menu": {},
   "number_sections": true,
   "sideBar": true,
   "skip_h1_title": false,
   "title_cell": "Table of Contents",
   "title_sidebar": "Contents",
   "toc_cell": false,
   "toc_position": {},
   "toc_section_display": true,
   "toc_window_display": true
  }
 },
 "nbformat": 4,
 "nbformat_minor": 5
}
