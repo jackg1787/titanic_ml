{
 "cells": [
  {
   "cell_type": "code",
   "execution_count": 1,
   "metadata": {
    "ExecuteTime": {
     "end_time": "2022-05-30T16:56:22.389037Z",
     "start_time": "2022-05-30T16:56:22.322897Z"
    }
   },
   "outputs": [
    {
     "ename": "ModuleNotFoundError",
     "evalue": "No module named 'xgboost'",
     "output_type": "error",
     "traceback": [
      "\u001b[0;31m---------------------------------------------------------------------------\u001b[0m",
      "\u001b[0;31mModuleNotFoundError\u001b[0m                       Traceback (most recent call last)",
      "\u001b[0;32m<ipython-input-1-df229cc6eb4e>\u001b[0m in \u001b[0;36m<module>\u001b[0;34m\u001b[0m\n\u001b[1;32m      1\u001b[0m \u001b[0;32mimport\u001b[0m \u001b[0mpandas\u001b[0m \u001b[0;32mas\u001b[0m \u001b[0mpd\u001b[0m\u001b[0;34m\u001b[0m\u001b[0;34m\u001b[0m\u001b[0m\n\u001b[0;32m----> 2\u001b[0;31m \u001b[0;32mfrom\u001b[0m \u001b[0mxgboost\u001b[0m \u001b[0;32mimport\u001b[0m \u001b[0mXGBClassifier\u001b[0m\u001b[0;34m\u001b[0m\u001b[0;34m\u001b[0m\u001b[0m\n\u001b[0m\u001b[1;32m      3\u001b[0m \u001b[0;32mfrom\u001b[0m \u001b[0msklearn\u001b[0m\u001b[0;34m.\u001b[0m\u001b[0mmodel_selection\u001b[0m \u001b[0;32mimport\u001b[0m \u001b[0mtrain_test_split\u001b[0m\u001b[0;34m\u001b[0m\u001b[0;34m\u001b[0m\u001b[0m\n\u001b[1;32m      4\u001b[0m \u001b[0;34m\u001b[0m\u001b[0m\n\u001b[1;32m      5\u001b[0m \u001b[0;32mfrom\u001b[0m \u001b[0msklearn\u001b[0m\u001b[0;34m.\u001b[0m\u001b[0mpreprocessing\u001b[0m \u001b[0;32mimport\u001b[0m \u001b[0mLabelEncoder\u001b[0m \u001b[0;32mas\u001b[0m \u001b[0mLE\u001b[0m\u001b[0;34m\u001b[0m\u001b[0;34m\u001b[0m\u001b[0m\n",
      "\u001b[0;31mModuleNotFoundError\u001b[0m: No module named 'xgboost'"
     ]
    }
   ],
   "source": [
    "import pandas as pd\n",
    "from xgboost import XGBClassifier\n",
    "from sklearn.model_selection import train_test_split\n",
    "\n",
    "from sklearn.preprocessing import LabelEncoder as LE\n",
    "le = LE()\n",
    "from sklearn.metrics import roc_curve\n",
    "import matplotlib.pyplot as plt\n",
    "\n",
    "from sklearn.metrics import roc_auc_score\n",
    "import sys \n",
    "import os\n",
    "sys.path.append(os.path.abspath(\"../src\"))\n",
    "\n",
    "import functions as fnc"
   ]
  },
  {
   "cell_type": "code",
   "execution_count": 65,
   "metadata": {
    "ExecuteTime": {
     "end_time": "2022-05-30T16:35:03.175917Z",
     "start_time": "2022-05-30T16:35:03.139921Z"
    }
   },
   "outputs": [],
   "source": [
    "data = pd.read_csv('../data/processed/train.csv')\n",
    "test_data = pd.read_csv('../data/processed/test.csv')"
   ]
  },
  {
   "cell_type": "code",
   "execution_count": 66,
   "metadata": {
    "ExecuteTime": {
     "end_time": "2022-05-30T16:35:03.748243Z",
     "start_time": "2022-05-30T16:35:03.738924Z"
    }
   },
   "outputs": [],
   "source": [
    "columns_for_modelling = ['Pclass',\n",
    "                         'Sex',\n",
    " 'SibSp',\n",
    " 'Parch',\n",
    " 'Embarked',\n",
    " 'J_missing_age',\n",
    " 'Age',\n",
    " 'Fare',\n",
    " 'J_title_grouped',\n",
    " 'J_nrelatives',\n",
    " 'J_ticket_prefix',\n",
    " 'J_ticket_location',\n",
    " 'J_cabin_letter',\n",
    " 'J_n_siblings_spouses']"
   ]
  },
  {
   "cell_type": "code",
   "execution_count": 63,
   "metadata": {
    "ExecuteTime": {
     "end_time": "2022-05-30T16:33:31.115846Z",
     "start_time": "2022-05-30T16:33:31.107662Z"
    }
   },
   "outputs": [
    {
     "data": {
      "text/plain": [
       "male      266\n",
       "female    152\n",
       "Name: Sex, dtype: int64"
      ]
     },
     "execution_count": 63,
     "metadata": {},
     "output_type": "execute_result"
    }
   ],
   "source": []
  },
  {
   "cell_type": "code",
   "execution_count": 69,
   "metadata": {
    "ExecuteTime": {
     "end_time": "2022-05-30T16:41:15.799123Z",
     "start_time": "2022-05-30T16:41:15.782446Z"
    }
   },
   "outputs": [],
   "source": [
    "from sklearn.preprocessing import OrdinalEncoder\n",
    "\n",
    "# Create encoder\n",
    "ordinal_encoder = OrdinalEncoder(handle_unknown='use_encoded_value',\n",
    "                                 unknown_value=-1)"
   ]
  },
  {
   "cell_type": "code",
   "execution_count": 74,
   "metadata": {
    "ExecuteTime": {
     "end_time": "2022-05-30T16:42:49.266138Z",
     "start_time": "2022-05-30T16:42:49.236363Z"
    },
    "scrolled": true
   },
   "outputs": [],
   "source": [
    "data['Sex'] = ordinal_encoder.fit_transform(data['Sex'].values.reshape(-1, 1))\n",
    "test_data['Sex'] = ordinal_encoder.transform(test_data['Sex'].values.reshape(-1, 1))\n",
    "\n",
    "data['Embarked'] = ordinal_encoder.fit_transform(data['Embarked'].values.reshape(-1, 1))\n",
    "test_data['Embarked'] = ordinal_encoder.transform(test_data['Embarked'].values.reshape(-1, 1))\n",
    "\n",
    "data['J_title_grouped'] = ordinal_encoder.fit_transform(data['J_title_grouped'].values.reshape(-1, 1))\n",
    "test_data['J_title_grouped'] = ordinal_encoder.transform(test_data['J_title_grouped'].values.reshape(-1, 1))\n",
    "\n",
    "data['J_ticket_prefix'] = ordinal_encoder.fit_transform(data['J_ticket_prefix'].values.reshape(-1, 1))\n",
    "test_data['J_ticket_prefix'] = ordinal_encoder.transform(test_data['J_ticket_prefix'].values.reshape(-1, 1))\n",
    "\n",
    "data['J_ticket_location'] = ordinal_encoder.fit_transform(data['J_ticket_location'].values.reshape(-1, 1))\n",
    "test_data['J_ticket_location'] = ordinal_encoder.transform(test_data['J_ticket_location'].values.reshape(-1, 1))\n",
    "\n",
    "data['J_cabin_letter'] = ordinal_encoder.fit_transform(data['J_cabin_letter'].values.reshape(-1, 1))\n",
    "test_data['J_cabin_letter'] = ordinal_encoder.transform(test_data['J_cabin_letter'].values.reshape(-1, 1))\n"
   ]
  },
  {
   "cell_type": "code",
   "execution_count": 75,
   "metadata": {
    "ExecuteTime": {
     "end_time": "2022-05-30T16:42:51.268740Z",
     "start_time": "2022-05-30T16:42:51.252476Z"
    }
   },
   "outputs": [],
   "source": [
    "df_train_train, df_train_test= train_test_split(data, test_size = 0.3, random_state = 656)"
   ]
  },
  {
   "cell_type": "code",
   "execution_count": 76,
   "metadata": {
    "ExecuteTime": {
     "end_time": "2022-05-30T16:42:51.595454Z",
     "start_time": "2022-05-30T16:42:51.581719Z"
    },
    "scrolled": false
   },
   "outputs": [
    {
     "data": {
      "text/plain": [
       "((623, 23), (623, 24))"
      ]
     },
     "execution_count": 76,
     "metadata": {},
     "output_type": "execute_result"
    }
   ],
   "source": [
    "df_train.shape, df_train_train.shape"
   ]
  },
  {
   "cell_type": "code",
   "execution_count": 77,
   "metadata": {
    "ExecuteTime": {
     "end_time": "2022-05-30T16:42:52.674940Z",
     "start_time": "2022-05-30T16:42:52.660895Z"
    }
   },
   "outputs": [
    {
     "data": {
      "text/plain": [
       "0    394\n",
       "1    229\n",
       "Name: Survived, dtype: int64"
      ]
     },
     "execution_count": 77,
     "metadata": {},
     "output_type": "execute_result"
    }
   ],
   "source": [
    "df_train['Survived'].value_counts(dropna= False)"
   ]
  },
  {
   "cell_type": "code",
   "execution_count": 78,
   "metadata": {
    "ExecuteTime": {
     "end_time": "2022-05-30T16:42:53.428259Z",
     "start_time": "2022-05-30T16:42:53.420646Z"
    }
   },
   "outputs": [],
   "source": [
    "clf = XGBClassifier(n_estimators = 500,\n",
    "                   max_depth = 5, \n",
    "                   learning_rate = 0.05,\n",
    "                   gamma = 1 ,\n",
    "                   reg_alpha= 0,\n",
    "                   reg_lambda = 1,\n",
    "                   scale_pos_weight = df_train[df_train['Survived']==1].shape[0]/df_train[df_train['Survived']==0].shape[0],\n",
    "                   random_state = 123,\n",
    "                   colsample_bytree = 0.8,\n",
    "                    objective=\"binary:logistic\",\n",
    "                   eval_metric = 'auc')"
   ]
  },
  {
   "cell_type": "code",
   "execution_count": 113,
   "metadata": {
    "ExecuteTime": {
     "end_time": "2022-05-30T16:56:05.184839Z",
     "start_time": "2022-05-30T16:56:05.011742Z"
    },
    "scrolled": true
   },
   "outputs": [
    {
     "name": "stdout",
     "output_type": "stream",
     "text": [
      "[0]\tvalidation_0-auc:0.86021\n",
      "[1]\tvalidation_0-auc:0.85969\n",
      "[2]\tvalidation_0-auc:0.86180\n",
      "[3]\tvalidation_0-auc:0.86283\n",
      "[4]\tvalidation_0-auc:0.86323\n",
      "[5]\tvalidation_0-auc:0.86363\n",
      "[6]\tvalidation_0-auc:0.87242\n",
      "[7]\tvalidation_0-auc:0.87271\n",
      "[8]\tvalidation_0-auc:0.87020\n",
      "[9]\tvalidation_0-auc:0.86968\n",
      "[10]\tvalidation_0-auc:0.87142\n",
      "[11]\tvalidation_0-auc:0.87182\n",
      "[12]\tvalidation_0-auc:0.87088\n",
      "[13]\tvalidation_0-auc:0.87134\n",
      "[14]\tvalidation_0-auc:0.87065\n",
      "[15]\tvalidation_0-auc:0.87100\n",
      "[16]\tvalidation_0-auc:0.87020\n",
      "[17]\tvalidation_0-auc:0.87077\n",
      "[18]\tvalidation_0-auc:0.86980\n",
      "[19]\tvalidation_0-auc:0.86991\n",
      "[20]\tvalidation_0-auc:0.87251\n",
      "[21]\tvalidation_0-auc:0.87305\n",
      "[22]\tvalidation_0-auc:0.87259\n",
      "[23]\tvalidation_0-auc:0.87314\n",
      "[24]\tvalidation_0-auc:0.87259\n",
      "[25]\tvalidation_0-auc:0.87248\n",
      "[26]\tvalidation_0-auc:0.87060\n",
      "[27]\tvalidation_0-auc:0.87008\n",
      "[28]\tvalidation_0-auc:0.86985\n",
      "[29]\tvalidation_0-auc:0.87068\n",
      "[30]\tvalidation_0-auc:0.86940\n",
      "[31]\tvalidation_0-auc:0.86960\n",
      "[32]\tvalidation_0-auc:0.86940\n",
      "[33]\tvalidation_0-auc:0.86883\n",
      "[34]\tvalidation_0-auc:0.86837\n",
      "[35]\tvalidation_0-auc:0.86540\n",
      "[36]\tvalidation_0-auc:0.86055\n",
      "[37]\tvalidation_0-auc:0.86061\n",
      "[38]\tvalidation_0-auc:0.86226\n",
      "[39]\tvalidation_0-auc:0.86186\n",
      "[40]\tvalidation_0-auc:0.86203\n",
      "[41]\tvalidation_0-auc:0.86203\n",
      "[42]\tvalidation_0-auc:0.86169\n",
      "[43]\tvalidation_0-auc:0.86203\n"
     ]
    },
    {
     "name": "stderr",
     "output_type": "stream",
     "text": [
      "d:\\titanic\\venv\\lib\\site-packages\\xgboost\\sklearn.py:793: UserWarning: `early_stopping_rounds` in `fit` method is deprecated for better compatibility with scikit-learn, use `early_stopping_rounds` in constructor or`set_params` instead.\n",
      "  warnings.warn(\n"
     ]
    },
    {
     "data": {
      "text/html": [
       "<style>#sk-container-id-4 {color: black;background-color: white;}#sk-container-id-4 pre{padding: 0;}#sk-container-id-4 div.sk-toggleable {background-color: white;}#sk-container-id-4 label.sk-toggleable__label {cursor: pointer;display: block;width: 100%;margin-bottom: 0;padding: 0.3em;box-sizing: border-box;text-align: center;}#sk-container-id-4 label.sk-toggleable__label-arrow:before {content: \"▸\";float: left;margin-right: 0.25em;color: #696969;}#sk-container-id-4 label.sk-toggleable__label-arrow:hover:before {color: black;}#sk-container-id-4 div.sk-estimator:hover label.sk-toggleable__label-arrow:before {color: black;}#sk-container-id-4 div.sk-toggleable__content {max-height: 0;max-width: 0;overflow: hidden;text-align: left;background-color: #f0f8ff;}#sk-container-id-4 div.sk-toggleable__content pre {margin: 0.2em;color: black;border-radius: 0.25em;background-color: #f0f8ff;}#sk-container-id-4 input.sk-toggleable__control:checked~div.sk-toggleable__content {max-height: 200px;max-width: 100%;overflow: auto;}#sk-container-id-4 input.sk-toggleable__control:checked~label.sk-toggleable__label-arrow:before {content: \"▾\";}#sk-container-id-4 div.sk-estimator input.sk-toggleable__control:checked~label.sk-toggleable__label {background-color: #d4ebff;}#sk-container-id-4 div.sk-label input.sk-toggleable__control:checked~label.sk-toggleable__label {background-color: #d4ebff;}#sk-container-id-4 input.sk-hidden--visually {border: 0;clip: rect(1px 1px 1px 1px);clip: rect(1px, 1px, 1px, 1px);height: 1px;margin: -1px;overflow: hidden;padding: 0;position: absolute;width: 1px;}#sk-container-id-4 div.sk-estimator {font-family: monospace;background-color: #f0f8ff;border: 1px dotted black;border-radius: 0.25em;box-sizing: border-box;margin-bottom: 0.5em;}#sk-container-id-4 div.sk-estimator:hover {background-color: #d4ebff;}#sk-container-id-4 div.sk-parallel-item::after {content: \"\";width: 100%;border-bottom: 1px solid gray;flex-grow: 1;}#sk-container-id-4 div.sk-label:hover label.sk-toggleable__label {background-color: #d4ebff;}#sk-container-id-4 div.sk-serial::before {content: \"\";position: absolute;border-left: 1px solid gray;box-sizing: border-box;top: 0;bottom: 0;left: 50%;z-index: 0;}#sk-container-id-4 div.sk-serial {display: flex;flex-direction: column;align-items: center;background-color: white;padding-right: 0.2em;padding-left: 0.2em;position: relative;}#sk-container-id-4 div.sk-item {position: relative;z-index: 1;}#sk-container-id-4 div.sk-parallel {display: flex;align-items: stretch;justify-content: center;background-color: white;position: relative;}#sk-container-id-4 div.sk-item::before, #sk-container-id-4 div.sk-parallel-item::before {content: \"\";position: absolute;border-left: 1px solid gray;box-sizing: border-box;top: 0;bottom: 0;left: 50%;z-index: -1;}#sk-container-id-4 div.sk-parallel-item {display: flex;flex-direction: column;z-index: 1;position: relative;background-color: white;}#sk-container-id-4 div.sk-parallel-item:first-child::after {align-self: flex-end;width: 50%;}#sk-container-id-4 div.sk-parallel-item:last-child::after {align-self: flex-start;width: 50%;}#sk-container-id-4 div.sk-parallel-item:only-child::after {width: 0;}#sk-container-id-4 div.sk-dashed-wrapped {border: 1px dashed gray;margin: 0 0.4em 0.5em 0.4em;box-sizing: border-box;padding-bottom: 0.4em;background-color: white;}#sk-container-id-4 div.sk-label label {font-family: monospace;font-weight: bold;display: inline-block;line-height: 1.2em;}#sk-container-id-4 div.sk-label-container {text-align: center;}#sk-container-id-4 div.sk-container {/* jupyter's `normalize.less` sets `[hidden] { display: none; }` but bootstrap.min.css set `[hidden] { display: none !important; }` so we also need the `!important` here to be able to override the default hidden behavior on the sphinx rendered scikit-learn.org. See: https://github.com/scikit-learn/scikit-learn/issues/21755 */display: inline-block !important;position: relative;}#sk-container-id-4 div.sk-text-repr-fallback {display: none;}</style><div id=\"sk-container-id-4\" class=\"sk-top-container\"><div class=\"sk-text-repr-fallback\"><pre>XGBClassifier(base_score=0.5, booster=&#x27;gbtree&#x27;, callbacks=None,\n",
       "              colsample_bylevel=1, colsample_bynode=1, colsample_bytree=0.8,\n",
       "              early_stopping_rounds=None, enable_categorical=False,\n",
       "              eval_metric=&#x27;auc&#x27;, gamma=1, gpu_id=-1, grow_policy=&#x27;depthwise&#x27;,\n",
       "              importance_type=None, interaction_constraints=&#x27;&#x27;,\n",
       "              learning_rate=0.05, max_bin=256, max_cat_to_onehot=4,\n",
       "              max_delta_step=0, max_depth=5, max_leaves=0, min_child_weight=1,\n",
       "              missing=nan, monotone_constraints=&#x27;()&#x27;, n_estimators=500,\n",
       "              n_jobs=0, num_parallel_tree=1, predictor=&#x27;auto&#x27;, random_state=123,\n",
       "              reg_alpha=0, reg_lambda=1, ...)</pre><b>In a Jupyter environment, please rerun this cell to show the HTML representation or trust the notebook. <br />On GitHub, the HTML representation is unable to render, please try loading this page with nbviewer.org.</b></div><div class=\"sk-container\" hidden><div class=\"sk-item\"><div class=\"sk-estimator sk-toggleable\"><input class=\"sk-toggleable__control sk-hidden--visually\" id=\"sk-estimator-id-4\" type=\"checkbox\" checked><label for=\"sk-estimator-id-4\" class=\"sk-toggleable__label sk-toggleable__label-arrow\">XGBClassifier</label><div class=\"sk-toggleable__content\"><pre>XGBClassifier(base_score=0.5, booster=&#x27;gbtree&#x27;, callbacks=None,\n",
       "              colsample_bylevel=1, colsample_bynode=1, colsample_bytree=0.8,\n",
       "              early_stopping_rounds=None, enable_categorical=False,\n",
       "              eval_metric=&#x27;auc&#x27;, gamma=1, gpu_id=-1, grow_policy=&#x27;depthwise&#x27;,\n",
       "              importance_type=None, interaction_constraints=&#x27;&#x27;,\n",
       "              learning_rate=0.05, max_bin=256, max_cat_to_onehot=4,\n",
       "              max_delta_step=0, max_depth=5, max_leaves=0, min_child_weight=1,\n",
       "              missing=nan, monotone_constraints=&#x27;()&#x27;, n_estimators=500,\n",
       "              n_jobs=0, num_parallel_tree=1, predictor=&#x27;auto&#x27;, random_state=123,\n",
       "              reg_alpha=0, reg_lambda=1, ...)</pre></div></div></div></div></div>"
      ],
      "text/plain": [
       "XGBClassifier(base_score=0.5, booster='gbtree', callbacks=None,\n",
       "              colsample_bylevel=1, colsample_bynode=1, colsample_bytree=0.8,\n",
       "              early_stopping_rounds=None, enable_categorical=False,\n",
       "              eval_metric='auc', gamma=1, gpu_id=-1, grow_policy='depthwise',\n",
       "              importance_type=None, interaction_constraints='',\n",
       "              learning_rate=0.05, max_bin=256, max_cat_to_onehot=4,\n",
       "              max_delta_step=0, max_depth=5, max_leaves=0, min_child_weight=1,\n",
       "              missing=nan, monotone_constraints='()', n_estimators=500,\n",
       "              n_jobs=0, num_parallel_tree=1, predictor='auto', random_state=123,\n",
       "              reg_alpha=0, reg_lambda=1, ...)"
      ]
     },
     "execution_count": 113,
     "metadata": {},
     "output_type": "execute_result"
    }
   ],
   "source": [
    "clf.fit(df_train_train[columns_for_modelling], \n",
    "        df_train_train['Survived'], \n",
    "        eval_set = [(df_train_test[columns_for_modelling], df_train_test['Survived'])],\n",
    "        early_stopping_rounds = 20)"
   ]
  },
  {
   "cell_type": "code",
   "execution_count": 114,
   "metadata": {
    "ExecuteTime": {
     "end_time": "2022-05-30T16:56:06.820464Z",
     "start_time": "2022-05-30T16:56:06.788474Z"
    },
    "scrolled": true
   },
   "outputs": [],
   "source": [
    "results = {'train': roc_auc_score(df_train_train['Survived'],clf.predict_proba(df_train_train[columns_for_modelling])[:,1]),\n",
    "          'val': roc_auc_score(df_train_test['Survived'],clf.predict_proba(df_train_test[columns_for_modelling])[:,1])}"
   ]
  },
  {
   "cell_type": "code",
   "execution_count": 115,
   "metadata": {
    "ExecuteTime": {
     "end_time": "2022-05-30T16:56:07.168773Z",
     "start_time": "2022-05-30T16:56:07.162837Z"
    }
   },
   "outputs": [
    {
     "data": {
      "text/plain": [
       "0.9142375811850243"
      ]
     },
     "execution_count": 115,
     "metadata": {},
     "output_type": "execute_result"
    }
   ],
   "source": [
    "results['train']"
   ]
  },
  {
   "cell_type": "code",
   "execution_count": 116,
   "metadata": {
    "ExecuteTime": {
     "end_time": "2022-05-30T16:56:07.876147Z",
     "start_time": "2022-05-30T16:56:07.850743Z"
    }
   },
   "outputs": [],
   "source": [
    "data['clf_score'] = clf.predict_proba(data[columns_for_modelling])[:,1]\n",
    "data['train_val'] = 'train'\n",
    "data.loc[data['PassengerId'].isin(df_train_test['PassengerId'].to_list()),'train_val'] = 'val'"
   ]
  },
  {
   "cell_type": "code",
   "execution_count": 117,
   "metadata": {
    "ExecuteTime": {
     "end_time": "2022-05-30T16:56:08.909754Z",
     "start_time": "2022-05-30T16:56:08.690984Z"
    }
   },
   "outputs": [
    {
     "data": {
      "image/png": "[encoded data removed]",
      "text/plain": [
       "<Figure size 432x288 with 1 Axes>"
      ]
     },
     "metadata": {
      "needs_background": "light"
     },
     "output_type": "display_data"
    }
   ],
   "source": [
    "fpr,tpr,thresh = roc_curve(df_train_train['Survived'],clf.predict_proba(df_train_train[columns_for_modelling])[:,1])\n",
    "plt.plot(fpr, tpr, label='Train: {}'.format(results['train'].round(2))) \n",
    "fpr,tpr,thresh = roc_curve(df_train_test['Survived'],clf.predict_proba(df_train_test[columns_for_modelling])[:,1])\n",
    "plt.plot(fpr, tpr, label = 'Validation: {}'.format(results['val'].round(2))) \n",
    "plt.plot([0,1], [0,1], color='black')\n",
    "plt.legend();\n",
    "plt.ylabel('tpr')\n",
    "plt.xlabel('fpr')\n",
    "plt.show()"
   ]
  },
  {
   "cell_type": "code",
   "execution_count": 110,
   "metadata": {
    "ExecuteTime": {
     "end_time": "2022-05-30T16:54:22.329059Z",
     "start_time": "2022-05-30T16:54:22.308778Z"
    }
   },
   "outputs": [],
   "source": [
    "def get_scoreband_Summary(df, target, score_col, n_scorebands):\n",
    "    df['scoreband'] = pd.qcut(df[score_col], n_scorebands, duplicates='drop')\n",
    "    \n",
    "    res = df.groupby('scoreband')[target].value_counts().unstack()\n",
    "    res = res.fillna(0)\n",
    "    res['Survival Rate'] = 100*res.loc[:,1]/(res.loc[:,1]+res.loc[:,0])\n",
    "    return res"
   ]
  },
  {
   "cell_type": "code",
   "execution_count": 112,
   "metadata": {
    "ExecuteTime": {
     "end_time": "2022-05-30T16:54:34.057770Z",
     "start_time": "2022-05-30T16:54:34.003806Z"
    }
   },
   "outputs": [
    {
     "name": "stderr",
     "output_type": "stream",
     "text": [
      "C:\\Users\\jack.gorton\\AppData\\Local\\Temp\\ipykernel_24992\\309134982.py:2: SettingWithCopyWarning: \n",
      "A value is trying to be set on a copy of a slice from a DataFrame.\n",
      "Try using .loc[row_indexer,col_indexer] = value instead\n",
      "\n",
      "See the caveats in the documentation: https://pandas.pydata.org/pandas-docs/stable/user_guide/indexing.html#returning-a-view-versus-a-copy\n",
      "  df['scoreband'] = pd.qcut(df[score_col], n_scorebands, duplicates='drop')\n"
     ]
    },
    {
     "data": {
      "text/html": [
       "<div>\n",
       "<style scoped>\n",
       "    .dataframe tbody tr th:only-of-type {\n",
       "        vertical-align: middle;\n",
       "    }\n",
       "\n",
       "    .dataframe tbody tr th {\n",
       "        vertical-align: top;\n",
       "    }\n",
       "\n",
       "    .dataframe thead th {\n",
       "        text-align: right;\n",
       "    }\n",
       "</style>\n",
       "<table border=\"1\" class=\"dataframe\">\n",
       "  <thead>\n",
       "    <tr style=\"text-align: right;\">\n",
       "      <th>Survived</th>\n",
       "      <th>0</th>\n",
       "      <th>1</th>\n",
       "      <th>Survival Rate</th>\n",
       "    </tr>\n",
       "    <tr>\n",
       "      <th>scoreband</th>\n",
       "      <th></th>\n",
       "      <th></th>\n",
       "      <th></th>\n",
       "    </tr>\n",
       "  </thead>\n",
       "  <tbody>\n",
       "    <tr>\n",
       "      <th>(0.19, 0.192]</th>\n",
       "      <td>202.0</td>\n",
       "      <td>16.0</td>\n",
       "      <td>7.34</td>\n",
       "    </tr>\n",
       "    <tr>\n",
       "      <th>(0.192, 0.193]</th>\n",
       "      <td>43.0</td>\n",
       "      <td>2.0</td>\n",
       "      <td>4.44</td>\n",
       "    </tr>\n",
       "    <tr>\n",
       "      <th>(0.193, 0.242]</th>\n",
       "      <td>46.0</td>\n",
       "      <td>5.0</td>\n",
       "      <td>9.80</td>\n",
       "    </tr>\n",
       "    <tr>\n",
       "      <th>(0.242, 0.326]</th>\n",
       "      <td>48.0</td>\n",
       "      <td>12.0</td>\n",
       "      <td>20.00</td>\n",
       "    </tr>\n",
       "    <tr>\n",
       "      <th>(0.326, 0.413]</th>\n",
       "      <td>40.0</td>\n",
       "      <td>22.0</td>\n",
       "      <td>35.48</td>\n",
       "    </tr>\n",
       "    <tr>\n",
       "      <th>(0.413, 0.703]</th>\n",
       "      <td>11.0</td>\n",
       "      <td>51.0</td>\n",
       "      <td>82.26</td>\n",
       "    </tr>\n",
       "    <tr>\n",
       "      <th>(0.703, 0.762]</th>\n",
       "      <td>4.0</td>\n",
       "      <td>58.0</td>\n",
       "      <td>93.55</td>\n",
       "    </tr>\n",
       "    <tr>\n",
       "      <th>(0.762, 0.797]</th>\n",
       "      <td>0.0</td>\n",
       "      <td>63.0</td>\n",
       "      <td>100.00</td>\n",
       "    </tr>\n",
       "  </tbody>\n",
       "</table>\n",
       "</div>"
      ],
      "text/plain": [
       "Survived            0     1  Survival Rate\n",
       "scoreband                                 \n",
       "(0.19, 0.192]   202.0  16.0           7.34\n",
       "(0.192, 0.193]   43.0   2.0           4.44\n",
       "(0.193, 0.242]   46.0   5.0           9.80\n",
       "(0.242, 0.326]   48.0  12.0          20.00\n",
       "(0.326, 0.413]   40.0  22.0          35.48\n",
       "(0.413, 0.703]   11.0  51.0          82.26\n",
       "(0.703, 0.762]    4.0  58.0          93.55\n",
       "(0.762, 0.797]    0.0  63.0         100.00"
      ]
     },
     "execution_count": 112,
     "metadata": {},
     "output_type": "execute_result"
    }
   ],
   "source": [
    "get_scoreband_Summary(data[data['train_val']=='train'] , 'Survived', 'clf_score', 10).round(2)"
   ]
  },
  {
   "cell_type": "code",
   "execution_count": 123,
   "metadata": {
    "ExecuteTime": {
     "end_time": "2022-05-30T16:57:36.399650Z",
     "start_time": "2022-05-30T16:57:36.186899Z"
    },
    "scrolled": true
   },
   "outputs": [
    {
     "data": {
      "image/png": "[encoded data removed]",
      "text/plain": [
       "<Figure size 1080x720 with 1 Axes>"
      ]
     },
     "metadata": {
      "needs_background": "light"
     },
     "output_type": "display_data"
    }
   ],
   "source": [
    "fnc.plot_distro_per_cat(data[data['train_val']=='train'], 'clf_score', 'Survived', plt_args = {'alpha': 0.7, 'bins': 20})"
   ]
  },
  {
   "cell_type": "code",
   "execution_count": null,
   "metadata": {},
   "outputs": [],
   "source": [
    "# shap values\n",
    "# pdp\n",
    "# hyperparam tune\n",
    "# cross val\n",
    "# compare what someone with low and high score looks like"
   ]
  }
 ],
 "metadata": {
  "kernelspec": {
   "display_name": "Python 3",
   "language": "python",
   "name": "python3"
  },
  "language_info": {
   "codemirror_mode": {
    "name": "ipython",
    "version": 3
   },
   "file_extension": ".py",
   "mimetype": "text/x-python",
   "name": "python",
   "nbconvert_exporter": "python",
   "pygments_lexer": "ipython3",
   "version": "3.7.1"
  },
  "toc": {
   "base_numbering": 1,
   "nav_menu": {},
   "number_sections": true,
   "sideBar": true,
   "skip_h1_title": false,
   "title_cell": "Table of Contents",
   "title_sidebar": "Contents",
   "toc_cell": false,
   "toc_position": {},
   "toc_section_display": true,
   "toc_window_display": true
  }
 },
 "nbformat": 4,
 "nbformat_minor": 5
}
